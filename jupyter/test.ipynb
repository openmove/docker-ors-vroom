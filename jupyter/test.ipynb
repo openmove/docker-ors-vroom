{
 "cells": [
  {
   "cell_type": "markdown",
   "metadata": {},
   "source": [
    "# OpenRouteService python bindings\n",
    "\n",
    "https://github.com/GIScience/openrouteservice-py"
   ]
  },
  {
   "cell_type": "code",
   "execution_count": 1,
   "metadata": {},
   "outputs": [],
   "source": [
    "import openrouteservice as ors\n",
    "import folium\n",
    "import json\n",
    "import random\n",
    "from pprint import pprint\n",
    "\n",
    "url_ors = 'http://ors:8080/ors'  #istanze locale ROUTING ENGINE \n",
    "\n",
    "url_vroom = 'http://vroom:8081/optimization'  #instanza loale VROOM\n",
    "\n",
    "# DATI json posizione jobs (Bidoni)\n",
    "pointsA = json.load(open('./data/mezzolombardo.geojson'))['features'] #4 points\n",
    "pointsB = json.load(open('./data/mezzocorona.geojson'))['features'] #6 points\n",
    "\n",
    "center = [46.2147, 11.1065]\n",
    "zoom = 15\n",
    "\n",
    "# POSIZIONI PARTENZA DEI VEICOLI (Furgoni)\n",
    "point_start = [46.2170,11.1066]\n",
    "# POSIZIONE ARRIVO DEI VEICOLI\n",
    "point_end = [point_start[0], point_start[1]]\n"
   ]
  },
  {
   "cell_type": "markdown",
   "metadata": {},
   "source": [
    "# OpenRouteService Simple TSP Routing Problem ( without VROOM )\n",
    "\n",
    "example of one vehicle for two groups of bins all full, without considering the capacity of vehicle.\n",
    "\n",
    "- [API Directions](https://openrouteservice.org/dev/#/api-docs/v2/directions/{profile}/post)\n",
    "- [Preferences examples](https://github.com/GIScience/openrouteservice-docs#examples)\n",
    "- [more examples](https://github.com/GIScience/openrouteservice-py/blob/master/examples/basic_example.ipynb)"
   ]
  },
  {
   "cell_type": "code",
   "execution_count": 2,
   "metadata": {
    "scrolled": false
   },
   "outputs": [
    {
     "ename": "ConnectionError",
     "evalue": "HTTPConnectionPool(host='ors', port=8080): Max retries exceeded with url: /ors/v2/directions/driving-hgv/geojson (Caused by NewConnectionError('<urllib3.connection.HTTPConnection object at 0x7f5ea66048e0>: Failed to establish a new connection: [Errno 111] Connection refused'))",
     "output_type": "error",
     "traceback": [
      "\u001b[0;31m---------------------------------------------------------------------------\u001b[0m",
      "\u001b[0;31mConnectionRefusedError\u001b[0m                    Traceback (most recent call last)",
      "\u001b[0;32m/opt/conda/lib/python3.8/site-packages/urllib3/connection.py\u001b[0m in \u001b[0;36m_new_conn\u001b[0;34m(self)\u001b[0m\n\u001b[1;32m    158\u001b[0m         \u001b[0;32mtry\u001b[0m\u001b[0;34m:\u001b[0m\u001b[0;34m\u001b[0m\u001b[0;34m\u001b[0m\u001b[0m\n\u001b[0;32m--> 159\u001b[0;31m             conn = connection.create_connection(\n\u001b[0m\u001b[1;32m    160\u001b[0m                 \u001b[0;34m(\u001b[0m\u001b[0mself\u001b[0m\u001b[0;34m.\u001b[0m\u001b[0m_dns_host\u001b[0m\u001b[0;34m,\u001b[0m \u001b[0mself\u001b[0m\u001b[0;34m.\u001b[0m\u001b[0mport\u001b[0m\u001b[0;34m)\u001b[0m\u001b[0;34m,\u001b[0m \u001b[0mself\u001b[0m\u001b[0;34m.\u001b[0m\u001b[0mtimeout\u001b[0m\u001b[0;34m,\u001b[0m \u001b[0;34m**\u001b[0m\u001b[0mextra_kw\u001b[0m\u001b[0;34m\u001b[0m\u001b[0;34m\u001b[0m\u001b[0m\n",
      "\u001b[0;32m/opt/conda/lib/python3.8/site-packages/urllib3/util/connection.py\u001b[0m in \u001b[0;36mcreate_connection\u001b[0;34m(address, timeout, source_address, socket_options)\u001b[0m\n\u001b[1;32m     83\u001b[0m     \u001b[0;32mif\u001b[0m \u001b[0merr\u001b[0m \u001b[0;32mis\u001b[0m \u001b[0;32mnot\u001b[0m \u001b[0;32mNone\u001b[0m\u001b[0;34m:\u001b[0m\u001b[0;34m\u001b[0m\u001b[0;34m\u001b[0m\u001b[0m\n\u001b[0;32m---> 84\u001b[0;31m         \u001b[0;32mraise\u001b[0m \u001b[0merr\u001b[0m\u001b[0;34m\u001b[0m\u001b[0;34m\u001b[0m\u001b[0m\n\u001b[0m\u001b[1;32m     85\u001b[0m \u001b[0;34m\u001b[0m\u001b[0m\n",
      "\u001b[0;32m/opt/conda/lib/python3.8/site-packages/urllib3/util/connection.py\u001b[0m in \u001b[0;36mcreate_connection\u001b[0;34m(address, timeout, source_address, socket_options)\u001b[0m\n\u001b[1;32m     73\u001b[0m                 \u001b[0msock\u001b[0m\u001b[0;34m.\u001b[0m\u001b[0mbind\u001b[0m\u001b[0;34m(\u001b[0m\u001b[0msource_address\u001b[0m\u001b[0;34m)\u001b[0m\u001b[0;34m\u001b[0m\u001b[0;34m\u001b[0m\u001b[0m\n\u001b[0;32m---> 74\u001b[0;31m             \u001b[0msock\u001b[0m\u001b[0;34m.\u001b[0m\u001b[0mconnect\u001b[0m\u001b[0;34m(\u001b[0m\u001b[0msa\u001b[0m\u001b[0;34m)\u001b[0m\u001b[0;34m\u001b[0m\u001b[0;34m\u001b[0m\u001b[0m\n\u001b[0m\u001b[1;32m     75\u001b[0m             \u001b[0;32mreturn\u001b[0m \u001b[0msock\u001b[0m\u001b[0;34m\u001b[0m\u001b[0;34m\u001b[0m\u001b[0m\n",
      "\u001b[0;31mConnectionRefusedError\u001b[0m: [Errno 111] Connection refused",
      "\nDuring handling of the above exception, another exception occurred:\n",
      "\u001b[0;31mNewConnectionError\u001b[0m                        Traceback (most recent call last)",
      "\u001b[0;32m/opt/conda/lib/python3.8/site-packages/urllib3/connectionpool.py\u001b[0m in \u001b[0;36murlopen\u001b[0;34m(self, method, url, body, headers, retries, redirect, assert_same_host, timeout, pool_timeout, release_conn, chunked, body_pos, **response_kw)\u001b[0m\n\u001b[1;32m    669\u001b[0m             \u001b[0;31m# Make the request on the httplib connection object.\u001b[0m\u001b[0;34m\u001b[0m\u001b[0;34m\u001b[0m\u001b[0;34m\u001b[0m\u001b[0m\n\u001b[0;32m--> 670\u001b[0;31m             httplib_response = self._make_request(\n\u001b[0m\u001b[1;32m    671\u001b[0m                 \u001b[0mconn\u001b[0m\u001b[0;34m,\u001b[0m\u001b[0;34m\u001b[0m\u001b[0;34m\u001b[0m\u001b[0m\n",
      "\u001b[0;32m/opt/conda/lib/python3.8/site-packages/urllib3/connectionpool.py\u001b[0m in \u001b[0;36m_make_request\u001b[0;34m(self, conn, method, url, timeout, chunked, **httplib_request_kw)\u001b[0m\n\u001b[1;32m    391\u001b[0m         \u001b[0;32melse\u001b[0m\u001b[0;34m:\u001b[0m\u001b[0;34m\u001b[0m\u001b[0;34m\u001b[0m\u001b[0m\n\u001b[0;32m--> 392\u001b[0;31m             \u001b[0mconn\u001b[0m\u001b[0;34m.\u001b[0m\u001b[0mrequest\u001b[0m\u001b[0;34m(\u001b[0m\u001b[0mmethod\u001b[0m\u001b[0;34m,\u001b[0m \u001b[0murl\u001b[0m\u001b[0;34m,\u001b[0m \u001b[0;34m**\u001b[0m\u001b[0mhttplib_request_kw\u001b[0m\u001b[0;34m)\u001b[0m\u001b[0;34m\u001b[0m\u001b[0;34m\u001b[0m\u001b[0m\n\u001b[0m\u001b[1;32m    393\u001b[0m \u001b[0;34m\u001b[0m\u001b[0m\n",
      "\u001b[0;32m/opt/conda/lib/python3.8/http/client.py\u001b[0m in \u001b[0;36mrequest\u001b[0;34m(self, method, url, body, headers, encode_chunked)\u001b[0m\n\u001b[1;32m   1254\u001b[0m         \u001b[0;34m\"\"\"Send a complete request to the server.\"\"\"\u001b[0m\u001b[0;34m\u001b[0m\u001b[0;34m\u001b[0m\u001b[0m\n\u001b[0;32m-> 1255\u001b[0;31m         \u001b[0mself\u001b[0m\u001b[0;34m.\u001b[0m\u001b[0m_send_request\u001b[0m\u001b[0;34m(\u001b[0m\u001b[0mmethod\u001b[0m\u001b[0;34m,\u001b[0m \u001b[0murl\u001b[0m\u001b[0;34m,\u001b[0m \u001b[0mbody\u001b[0m\u001b[0;34m,\u001b[0m \u001b[0mheaders\u001b[0m\u001b[0;34m,\u001b[0m \u001b[0mencode_chunked\u001b[0m\u001b[0;34m)\u001b[0m\u001b[0;34m\u001b[0m\u001b[0;34m\u001b[0m\u001b[0m\n\u001b[0m\u001b[1;32m   1256\u001b[0m \u001b[0;34m\u001b[0m\u001b[0m\n",
      "\u001b[0;32m/opt/conda/lib/python3.8/http/client.py\u001b[0m in \u001b[0;36m_send_request\u001b[0;34m(self, method, url, body, headers, encode_chunked)\u001b[0m\n\u001b[1;32m   1300\u001b[0m             \u001b[0mbody\u001b[0m \u001b[0;34m=\u001b[0m \u001b[0m_encode\u001b[0m\u001b[0;34m(\u001b[0m\u001b[0mbody\u001b[0m\u001b[0;34m,\u001b[0m \u001b[0;34m'body'\u001b[0m\u001b[0;34m)\u001b[0m\u001b[0;34m\u001b[0m\u001b[0;34m\u001b[0m\u001b[0m\n\u001b[0;32m-> 1301\u001b[0;31m         \u001b[0mself\u001b[0m\u001b[0;34m.\u001b[0m\u001b[0mendheaders\u001b[0m\u001b[0;34m(\u001b[0m\u001b[0mbody\u001b[0m\u001b[0;34m,\u001b[0m \u001b[0mencode_chunked\u001b[0m\u001b[0;34m=\u001b[0m\u001b[0mencode_chunked\u001b[0m\u001b[0;34m)\u001b[0m\u001b[0;34m\u001b[0m\u001b[0;34m\u001b[0m\u001b[0m\n\u001b[0m\u001b[1;32m   1302\u001b[0m \u001b[0;34m\u001b[0m\u001b[0m\n",
      "\u001b[0;32m/opt/conda/lib/python3.8/http/client.py\u001b[0m in \u001b[0;36mendheaders\u001b[0;34m(self, message_body, encode_chunked)\u001b[0m\n\u001b[1;32m   1249\u001b[0m             \u001b[0;32mraise\u001b[0m \u001b[0mCannotSendHeader\u001b[0m\u001b[0;34m(\u001b[0m\u001b[0;34m)\u001b[0m\u001b[0;34m\u001b[0m\u001b[0;34m\u001b[0m\u001b[0m\n\u001b[0;32m-> 1250\u001b[0;31m         \u001b[0mself\u001b[0m\u001b[0;34m.\u001b[0m\u001b[0m_send_output\u001b[0m\u001b[0;34m(\u001b[0m\u001b[0mmessage_body\u001b[0m\u001b[0;34m,\u001b[0m \u001b[0mencode_chunked\u001b[0m\u001b[0;34m=\u001b[0m\u001b[0mencode_chunked\u001b[0m\u001b[0;34m)\u001b[0m\u001b[0;34m\u001b[0m\u001b[0;34m\u001b[0m\u001b[0m\n\u001b[0m\u001b[1;32m   1251\u001b[0m \u001b[0;34m\u001b[0m\u001b[0m\n",
      "\u001b[0;32m/opt/conda/lib/python3.8/http/client.py\u001b[0m in \u001b[0;36m_send_output\u001b[0;34m(self, message_body, encode_chunked)\u001b[0m\n\u001b[1;32m   1009\u001b[0m         \u001b[0;32mdel\u001b[0m \u001b[0mself\u001b[0m\u001b[0;34m.\u001b[0m\u001b[0m_buffer\u001b[0m\u001b[0;34m[\u001b[0m\u001b[0;34m:\u001b[0m\u001b[0;34m]\u001b[0m\u001b[0;34m\u001b[0m\u001b[0;34m\u001b[0m\u001b[0m\n\u001b[0;32m-> 1010\u001b[0;31m         \u001b[0mself\u001b[0m\u001b[0;34m.\u001b[0m\u001b[0msend\u001b[0m\u001b[0;34m(\u001b[0m\u001b[0mmsg\u001b[0m\u001b[0;34m)\u001b[0m\u001b[0;34m\u001b[0m\u001b[0;34m\u001b[0m\u001b[0m\n\u001b[0m\u001b[1;32m   1011\u001b[0m \u001b[0;34m\u001b[0m\u001b[0m\n",
      "\u001b[0;32m/opt/conda/lib/python3.8/http/client.py\u001b[0m in \u001b[0;36msend\u001b[0;34m(self, data)\u001b[0m\n\u001b[1;32m    949\u001b[0m             \u001b[0;32mif\u001b[0m \u001b[0mself\u001b[0m\u001b[0;34m.\u001b[0m\u001b[0mauto_open\u001b[0m\u001b[0;34m:\u001b[0m\u001b[0;34m\u001b[0m\u001b[0;34m\u001b[0m\u001b[0m\n\u001b[0;32m--> 950\u001b[0;31m                 \u001b[0mself\u001b[0m\u001b[0;34m.\u001b[0m\u001b[0mconnect\u001b[0m\u001b[0;34m(\u001b[0m\u001b[0;34m)\u001b[0m\u001b[0;34m\u001b[0m\u001b[0;34m\u001b[0m\u001b[0m\n\u001b[0m\u001b[1;32m    951\u001b[0m             \u001b[0;32melse\u001b[0m\u001b[0;34m:\u001b[0m\u001b[0;34m\u001b[0m\u001b[0;34m\u001b[0m\u001b[0m\n",
      "\u001b[0;32m/opt/conda/lib/python3.8/site-packages/urllib3/connection.py\u001b[0m in \u001b[0;36mconnect\u001b[0;34m(self)\u001b[0m\n\u001b[1;32m    186\u001b[0m     \u001b[0;32mdef\u001b[0m \u001b[0mconnect\u001b[0m\u001b[0;34m(\u001b[0m\u001b[0mself\u001b[0m\u001b[0;34m)\u001b[0m\u001b[0;34m:\u001b[0m\u001b[0;34m\u001b[0m\u001b[0;34m\u001b[0m\u001b[0m\n\u001b[0;32m--> 187\u001b[0;31m         \u001b[0mconn\u001b[0m \u001b[0;34m=\u001b[0m \u001b[0mself\u001b[0m\u001b[0;34m.\u001b[0m\u001b[0m_new_conn\u001b[0m\u001b[0;34m(\u001b[0m\u001b[0;34m)\u001b[0m\u001b[0;34m\u001b[0m\u001b[0;34m\u001b[0m\u001b[0m\n\u001b[0m\u001b[1;32m    188\u001b[0m         \u001b[0mself\u001b[0m\u001b[0;34m.\u001b[0m\u001b[0m_prepare_conn\u001b[0m\u001b[0;34m(\u001b[0m\u001b[0mconn\u001b[0m\u001b[0;34m)\u001b[0m\u001b[0;34m\u001b[0m\u001b[0;34m\u001b[0m\u001b[0m\n",
      "\u001b[0;32m/opt/conda/lib/python3.8/site-packages/urllib3/connection.py\u001b[0m in \u001b[0;36m_new_conn\u001b[0;34m(self)\u001b[0m\n\u001b[1;32m    170\u001b[0m         \u001b[0;32mexcept\u001b[0m \u001b[0mSocketError\u001b[0m \u001b[0;32mas\u001b[0m \u001b[0me\u001b[0m\u001b[0;34m:\u001b[0m\u001b[0;34m\u001b[0m\u001b[0;34m\u001b[0m\u001b[0m\n\u001b[0;32m--> 171\u001b[0;31m             raise NewConnectionError(\n\u001b[0m\u001b[1;32m    172\u001b[0m                 \u001b[0mself\u001b[0m\u001b[0;34m,\u001b[0m \u001b[0;34m\"Failed to establish a new connection: %s\"\u001b[0m \u001b[0;34m%\u001b[0m \u001b[0me\u001b[0m\u001b[0;34m\u001b[0m\u001b[0;34m\u001b[0m\u001b[0m\n",
      "\u001b[0;31mNewConnectionError\u001b[0m: <urllib3.connection.HTTPConnection object at 0x7f5ea66048e0>: Failed to establish a new connection: [Errno 111] Connection refused",
      "\nDuring handling of the above exception, another exception occurred:\n",
      "\u001b[0;31mMaxRetryError\u001b[0m                             Traceback (most recent call last)",
      "\u001b[0;32m/opt/conda/lib/python3.8/site-packages/requests/adapters.py\u001b[0m in \u001b[0;36msend\u001b[0;34m(self, request, stream, timeout, verify, cert, proxies)\u001b[0m\n\u001b[1;32m    438\u001b[0m             \u001b[0;32mif\u001b[0m \u001b[0;32mnot\u001b[0m \u001b[0mchunked\u001b[0m\u001b[0;34m:\u001b[0m\u001b[0;34m\u001b[0m\u001b[0;34m\u001b[0m\u001b[0m\n\u001b[0;32m--> 439\u001b[0;31m                 resp = conn.urlopen(\n\u001b[0m\u001b[1;32m    440\u001b[0m                     \u001b[0mmethod\u001b[0m\u001b[0;34m=\u001b[0m\u001b[0mrequest\u001b[0m\u001b[0;34m.\u001b[0m\u001b[0mmethod\u001b[0m\u001b[0;34m,\u001b[0m\u001b[0;34m\u001b[0m\u001b[0;34m\u001b[0m\u001b[0m\n",
      "\u001b[0;32m/opt/conda/lib/python3.8/site-packages/urllib3/connectionpool.py\u001b[0m in \u001b[0;36murlopen\u001b[0;34m(self, method, url, body, headers, retries, redirect, assert_same_host, timeout, pool_timeout, release_conn, chunked, body_pos, **response_kw)\u001b[0m\n\u001b[1;32m    725\u001b[0m \u001b[0;34m\u001b[0m\u001b[0m\n\u001b[0;32m--> 726\u001b[0;31m             retries = retries.increment(\n\u001b[0m\u001b[1;32m    727\u001b[0m                 \u001b[0mmethod\u001b[0m\u001b[0;34m,\u001b[0m \u001b[0murl\u001b[0m\u001b[0;34m,\u001b[0m \u001b[0merror\u001b[0m\u001b[0;34m=\u001b[0m\u001b[0me\u001b[0m\u001b[0;34m,\u001b[0m \u001b[0m_pool\u001b[0m\u001b[0;34m=\u001b[0m\u001b[0mself\u001b[0m\u001b[0;34m,\u001b[0m \u001b[0m_stacktrace\u001b[0m\u001b[0;34m=\u001b[0m\u001b[0msys\u001b[0m\u001b[0;34m.\u001b[0m\u001b[0mexc_info\u001b[0m\u001b[0;34m(\u001b[0m\u001b[0;34m)\u001b[0m\u001b[0;34m[\u001b[0m\u001b[0;36m2\u001b[0m\u001b[0;34m]\u001b[0m\u001b[0;34m\u001b[0m\u001b[0;34m\u001b[0m\u001b[0m\n",
      "\u001b[0;32m/opt/conda/lib/python3.8/site-packages/urllib3/util/retry.py\u001b[0m in \u001b[0;36mincrement\u001b[0;34m(self, method, url, response, error, _pool, _stacktrace)\u001b[0m\n\u001b[1;32m    445\u001b[0m         \u001b[0;32mif\u001b[0m \u001b[0mnew_retry\u001b[0m\u001b[0;34m.\u001b[0m\u001b[0mis_exhausted\u001b[0m\u001b[0;34m(\u001b[0m\u001b[0;34m)\u001b[0m\u001b[0;34m:\u001b[0m\u001b[0;34m\u001b[0m\u001b[0;34m\u001b[0m\u001b[0m\n\u001b[0;32m--> 446\u001b[0;31m             \u001b[0;32mraise\u001b[0m \u001b[0mMaxRetryError\u001b[0m\u001b[0;34m(\u001b[0m\u001b[0m_pool\u001b[0m\u001b[0;34m,\u001b[0m \u001b[0murl\u001b[0m\u001b[0;34m,\u001b[0m \u001b[0merror\u001b[0m \u001b[0;32mor\u001b[0m \u001b[0mResponseError\u001b[0m\u001b[0;34m(\u001b[0m\u001b[0mcause\u001b[0m\u001b[0;34m)\u001b[0m\u001b[0;34m)\u001b[0m\u001b[0;34m\u001b[0m\u001b[0;34m\u001b[0m\u001b[0m\n\u001b[0m\u001b[1;32m    447\u001b[0m \u001b[0;34m\u001b[0m\u001b[0m\n",
      "\u001b[0;31mMaxRetryError\u001b[0m: HTTPConnectionPool(host='ors', port=8080): Max retries exceeded with url: /ors/v2/directions/driving-hgv/geojson (Caused by NewConnectionError('<urllib3.connection.HTTPConnection object at 0x7f5ea66048e0>: Failed to establish a new connection: [Errno 111] Connection refused'))",
      "\nDuring handling of the above exception, another exception occurred:\n",
      "\u001b[0;31mConnectionError\u001b[0m                           Traceback (most recent call last)",
      "\u001b[0;32m<ipython-input-2-972d7837a557>\u001b[0m in \u001b[0;36m<module>\u001b[0;34m\u001b[0m\n\u001b[1;32m     11\u001b[0m \u001b[0;34m\u001b[0m\u001b[0m\n\u001b[1;32m     12\u001b[0m \u001b[0;31m# TSP 1\u001b[0m\u001b[0;34m\u001b[0m\u001b[0;34m\u001b[0m\u001b[0;34m\u001b[0m\u001b[0m\n\u001b[0;32m---> 13\u001b[0;31m routeA = client.directions(\n\u001b[0m\u001b[1;32m     14\u001b[0m     \u001b[0mcoordinates\u001b[0m \u001b[0;34m=\u001b[0m \u001b[0mdirccA\u001b[0m\u001b[0;34m,\u001b[0m\u001b[0;34m\u001b[0m\u001b[0;34m\u001b[0m\u001b[0m\n\u001b[1;32m     15\u001b[0m     \u001b[0mprofile\u001b[0m \u001b[0;34m=\u001b[0m \u001b[0;34m'driving-hgv'\u001b[0m\u001b[0;34m,\u001b[0m\u001b[0;34m\u001b[0m\u001b[0;34m\u001b[0m\u001b[0m\n",
      "\u001b[0;32m/opt/conda/lib/python3.8/site-packages/openrouteservice/client.py\u001b[0m in \u001b[0;36mwrapper\u001b[0;34m(*args, **kwargs)\u001b[0m\n\u001b[1;32m    295\u001b[0m     \u001b[0;32mdef\u001b[0m \u001b[0mwrapper\u001b[0m\u001b[0;34m(\u001b[0m\u001b[0;34m*\u001b[0m\u001b[0margs\u001b[0m\u001b[0;34m,\u001b[0m \u001b[0;34m**\u001b[0m\u001b[0mkwargs\u001b[0m\u001b[0;34m)\u001b[0m\u001b[0;34m:\u001b[0m\u001b[0;34m\u001b[0m\u001b[0;34m\u001b[0m\u001b[0m\n\u001b[1;32m    296\u001b[0m         \u001b[0margs\u001b[0m\u001b[0;34m[\u001b[0m\u001b[0;36m0\u001b[0m\u001b[0;34m]\u001b[0m\u001b[0;34m.\u001b[0m\u001b[0m_extra_params\u001b[0m \u001b[0;34m=\u001b[0m \u001b[0mkwargs\u001b[0m\u001b[0;34m.\u001b[0m\u001b[0mpop\u001b[0m\u001b[0;34m(\u001b[0m\u001b[0;34m\"extra_params\"\u001b[0m\u001b[0;34m,\u001b[0m \u001b[0;32mNone\u001b[0m\u001b[0;34m)\u001b[0m\u001b[0;34m\u001b[0m\u001b[0;34m\u001b[0m\u001b[0m\n\u001b[0;32m--> 297\u001b[0;31m         \u001b[0mresult\u001b[0m \u001b[0;34m=\u001b[0m \u001b[0mfunc\u001b[0m\u001b[0;34m(\u001b[0m\u001b[0;34m*\u001b[0m\u001b[0margs\u001b[0m\u001b[0;34m,\u001b[0m \u001b[0;34m**\u001b[0m\u001b[0mkwargs\u001b[0m\u001b[0;34m)\u001b[0m\u001b[0;34m\u001b[0m\u001b[0;34m\u001b[0m\u001b[0m\n\u001b[0m\u001b[1;32m    298\u001b[0m         \u001b[0;32mtry\u001b[0m\u001b[0;34m:\u001b[0m\u001b[0;34m\u001b[0m\u001b[0;34m\u001b[0m\u001b[0m\n\u001b[1;32m    299\u001b[0m             \u001b[0;32mdel\u001b[0m \u001b[0margs\u001b[0m\u001b[0;34m[\u001b[0m\u001b[0;36m0\u001b[0m\u001b[0;34m]\u001b[0m\u001b[0;34m.\u001b[0m\u001b[0m_extra_params\u001b[0m\u001b[0;34m\u001b[0m\u001b[0;34m\u001b[0m\u001b[0m\n",
      "\u001b[0;32m/opt/conda/lib/python3.8/site-packages/openrouteservice/directions.py\u001b[0m in \u001b[0;36mdirections\u001b[0;34m(client, coordinates, profile, format_out, format, preference, units, language, geometry, geometry_simplify, instructions, instructions_format, alternative_routes, roundabout_exits, attributes, maneuvers, radiuses, bearings, skip_segments, continue_straight, elevation, extra_info, suppress_warnings, optimized, optimize_waypoints, options, validate, dry_run)\u001b[0m\n\u001b[1;32m    279\u001b[0m         \u001b[0mparams\u001b[0m\u001b[0;34m[\u001b[0m\u001b[0;34m'options'\u001b[0m\u001b[0;34m]\u001b[0m \u001b[0;34m=\u001b[0m \u001b[0moptions\u001b[0m\u001b[0;34m\u001b[0m\u001b[0;34m\u001b[0m\u001b[0m\n\u001b[1;32m    280\u001b[0m \u001b[0;34m\u001b[0m\u001b[0m\n\u001b[0;32m--> 281\u001b[0;31m     \u001b[0;32mreturn\u001b[0m \u001b[0mclient\u001b[0m\u001b[0;34m.\u001b[0m\u001b[0mrequest\u001b[0m\u001b[0;34m(\u001b[0m\u001b[0;34m\"/v2/directions/\"\u001b[0m \u001b[0;34m+\u001b[0m \u001b[0mprofile\u001b[0m \u001b[0;34m+\u001b[0m \u001b[0;34m'/'\u001b[0m \u001b[0;34m+\u001b[0m \u001b[0mformat\u001b[0m\u001b[0;34m,\u001b[0m \u001b[0;34m{\u001b[0m\u001b[0;34m}\u001b[0m\u001b[0;34m,\u001b[0m \u001b[0mpost_json\u001b[0m\u001b[0;34m=\u001b[0m\u001b[0mparams\u001b[0m\u001b[0;34m,\u001b[0m \u001b[0mdry_run\u001b[0m\u001b[0;34m=\u001b[0m\u001b[0mdry_run\u001b[0m\u001b[0;34m)\u001b[0m\u001b[0;34m\u001b[0m\u001b[0;34m\u001b[0m\u001b[0m\n\u001b[0m\u001b[1;32m    282\u001b[0m \u001b[0;34m\u001b[0m\u001b[0m\n\u001b[1;32m    283\u001b[0m \u001b[0;34m\u001b[0m\u001b[0m\n",
      "\u001b[0;32m/opt/conda/lib/python3.8/site-packages/openrouteservice/client.py\u001b[0m in \u001b[0;36mrequest\u001b[0;34m(self, url, get_params, first_request_time, retry_counter, requests_kwargs, post_json, dry_run)\u001b[0m\n\u001b[1;32m    184\u001b[0m \u001b[0;34m\u001b[0m\u001b[0m\n\u001b[1;32m    185\u001b[0m         \u001b[0;32mtry\u001b[0m\u001b[0;34m:\u001b[0m\u001b[0;34m\u001b[0m\u001b[0;34m\u001b[0m\u001b[0m\n\u001b[0;32m--> 186\u001b[0;31m             response = requests_method(self._base_url + authed_url,\n\u001b[0m\u001b[1;32m    187\u001b[0m                                        **final_requests_kwargs)\n\u001b[1;32m    188\u001b[0m             \u001b[0mself\u001b[0m\u001b[0;34m.\u001b[0m\u001b[0m_req\u001b[0m \u001b[0;34m=\u001b[0m \u001b[0mresponse\u001b[0m\u001b[0;34m.\u001b[0m\u001b[0mrequest\u001b[0m\u001b[0;34m\u001b[0m\u001b[0;34m\u001b[0m\u001b[0m\n",
      "\u001b[0;32m/opt/conda/lib/python3.8/site-packages/requests/sessions.py\u001b[0m in \u001b[0;36mpost\u001b[0;34m(self, url, data, json, **kwargs)\u001b[0m\n\u001b[1;32m    576\u001b[0m         \"\"\"\n\u001b[1;32m    577\u001b[0m \u001b[0;34m\u001b[0m\u001b[0m\n\u001b[0;32m--> 578\u001b[0;31m         \u001b[0;32mreturn\u001b[0m \u001b[0mself\u001b[0m\u001b[0;34m.\u001b[0m\u001b[0mrequest\u001b[0m\u001b[0;34m(\u001b[0m\u001b[0;34m'POST'\u001b[0m\u001b[0;34m,\u001b[0m \u001b[0murl\u001b[0m\u001b[0;34m,\u001b[0m \u001b[0mdata\u001b[0m\u001b[0;34m=\u001b[0m\u001b[0mdata\u001b[0m\u001b[0;34m,\u001b[0m \u001b[0mjson\u001b[0m\u001b[0;34m=\u001b[0m\u001b[0mjson\u001b[0m\u001b[0;34m,\u001b[0m \u001b[0;34m**\u001b[0m\u001b[0mkwargs\u001b[0m\u001b[0;34m)\u001b[0m\u001b[0;34m\u001b[0m\u001b[0;34m\u001b[0m\u001b[0m\n\u001b[0m\u001b[1;32m    579\u001b[0m \u001b[0;34m\u001b[0m\u001b[0m\n\u001b[1;32m    580\u001b[0m     \u001b[0;32mdef\u001b[0m \u001b[0mput\u001b[0m\u001b[0;34m(\u001b[0m\u001b[0mself\u001b[0m\u001b[0;34m,\u001b[0m \u001b[0murl\u001b[0m\u001b[0;34m,\u001b[0m \u001b[0mdata\u001b[0m\u001b[0;34m=\u001b[0m\u001b[0;32mNone\u001b[0m\u001b[0;34m,\u001b[0m \u001b[0;34m**\u001b[0m\u001b[0mkwargs\u001b[0m\u001b[0;34m)\u001b[0m\u001b[0;34m:\u001b[0m\u001b[0;34m\u001b[0m\u001b[0;34m\u001b[0m\u001b[0m\n",
      "\u001b[0;32m/opt/conda/lib/python3.8/site-packages/requests/sessions.py\u001b[0m in \u001b[0;36mrequest\u001b[0;34m(self, method, url, params, data, headers, cookies, files, auth, timeout, allow_redirects, proxies, hooks, stream, verify, cert, json)\u001b[0m\n\u001b[1;32m    528\u001b[0m         }\n\u001b[1;32m    529\u001b[0m         \u001b[0msend_kwargs\u001b[0m\u001b[0;34m.\u001b[0m\u001b[0mupdate\u001b[0m\u001b[0;34m(\u001b[0m\u001b[0msettings\u001b[0m\u001b[0;34m)\u001b[0m\u001b[0;34m\u001b[0m\u001b[0;34m\u001b[0m\u001b[0m\n\u001b[0;32m--> 530\u001b[0;31m         \u001b[0mresp\u001b[0m \u001b[0;34m=\u001b[0m \u001b[0mself\u001b[0m\u001b[0;34m.\u001b[0m\u001b[0msend\u001b[0m\u001b[0;34m(\u001b[0m\u001b[0mprep\u001b[0m\u001b[0;34m,\u001b[0m \u001b[0;34m**\u001b[0m\u001b[0msend_kwargs\u001b[0m\u001b[0;34m)\u001b[0m\u001b[0;34m\u001b[0m\u001b[0;34m\u001b[0m\u001b[0m\n\u001b[0m\u001b[1;32m    531\u001b[0m \u001b[0;34m\u001b[0m\u001b[0m\n\u001b[1;32m    532\u001b[0m         \u001b[0;32mreturn\u001b[0m \u001b[0mresp\u001b[0m\u001b[0;34m\u001b[0m\u001b[0;34m\u001b[0m\u001b[0m\n",
      "\u001b[0;32m/opt/conda/lib/python3.8/site-packages/requests/sessions.py\u001b[0m in \u001b[0;36msend\u001b[0;34m(self, request, **kwargs)\u001b[0m\n\u001b[1;32m    641\u001b[0m \u001b[0;34m\u001b[0m\u001b[0m\n\u001b[1;32m    642\u001b[0m         \u001b[0;31m# Send the request\u001b[0m\u001b[0;34m\u001b[0m\u001b[0;34m\u001b[0m\u001b[0;34m\u001b[0m\u001b[0m\n\u001b[0;32m--> 643\u001b[0;31m         \u001b[0mr\u001b[0m \u001b[0;34m=\u001b[0m \u001b[0madapter\u001b[0m\u001b[0;34m.\u001b[0m\u001b[0msend\u001b[0m\u001b[0;34m(\u001b[0m\u001b[0mrequest\u001b[0m\u001b[0;34m,\u001b[0m \u001b[0;34m**\u001b[0m\u001b[0mkwargs\u001b[0m\u001b[0;34m)\u001b[0m\u001b[0;34m\u001b[0m\u001b[0;34m\u001b[0m\u001b[0m\n\u001b[0m\u001b[1;32m    644\u001b[0m \u001b[0;34m\u001b[0m\u001b[0m\n\u001b[1;32m    645\u001b[0m         \u001b[0;31m# Total elapsed time of the request (approximately)\u001b[0m\u001b[0;34m\u001b[0m\u001b[0;34m\u001b[0m\u001b[0;34m\u001b[0m\u001b[0m\n",
      "\u001b[0;32m/opt/conda/lib/python3.8/site-packages/requests/adapters.py\u001b[0m in \u001b[0;36msend\u001b[0;34m(self, request, stream, timeout, verify, cert, proxies)\u001b[0m\n\u001b[1;32m    514\u001b[0m                 \u001b[0;32mraise\u001b[0m \u001b[0mSSLError\u001b[0m\u001b[0;34m(\u001b[0m\u001b[0me\u001b[0m\u001b[0;34m,\u001b[0m \u001b[0mrequest\u001b[0m\u001b[0;34m=\u001b[0m\u001b[0mrequest\u001b[0m\u001b[0;34m)\u001b[0m\u001b[0;34m\u001b[0m\u001b[0;34m\u001b[0m\u001b[0m\n\u001b[1;32m    515\u001b[0m \u001b[0;34m\u001b[0m\u001b[0m\n\u001b[0;32m--> 516\u001b[0;31m             \u001b[0;32mraise\u001b[0m \u001b[0mConnectionError\u001b[0m\u001b[0;34m(\u001b[0m\u001b[0me\u001b[0m\u001b[0;34m,\u001b[0m \u001b[0mrequest\u001b[0m\u001b[0;34m=\u001b[0m\u001b[0mrequest\u001b[0m\u001b[0;34m)\u001b[0m\u001b[0;34m\u001b[0m\u001b[0;34m\u001b[0m\u001b[0m\n\u001b[0m\u001b[1;32m    517\u001b[0m \u001b[0;34m\u001b[0m\u001b[0m\n\u001b[1;32m    518\u001b[0m         \u001b[0;32mexcept\u001b[0m \u001b[0mClosedPoolError\u001b[0m \u001b[0;32mas\u001b[0m \u001b[0me\u001b[0m\u001b[0;34m:\u001b[0m\u001b[0;34m\u001b[0m\u001b[0;34m\u001b[0m\u001b[0m\n",
      "\u001b[0;31mConnectionError\u001b[0m: HTTPConnectionPool(host='ors', port=8080): Max retries exceeded with url: /ors/v2/directions/driving-hgv/geojson (Caused by NewConnectionError('<urllib3.connection.HTTPConnection object at 0x7f5ea66048e0>: Failed to establish a new connection: [Errno 111] Connection refused'))"
     ]
    }
   ],
   "source": [
    "M = folium.Map(location=center, tiles='OpenStreetMap', zoom_start=zoom)\n",
    "    \n",
    "client = ors.Client(base_url=url_ors, key='') #LIBRERIA ORS STANDARD\n",
    "\n",
    "ccA = [p['geometry']['coordinates'] for p in pointsA]\n",
    "ccB = [p['geometry']['coordinates'] for p in pointsB]\n",
    "\n",
    "#include partenza e arrivo\n",
    "dirccA = [list(reversed(point_start))] + ccA + [list(reversed(point_end))]\n",
    "dirccB = [list(reversed(point_end))] + ccB + [list(reversed(point_end))]\n",
    "\n",
    "# TSP 1\n",
    "routeA = client.directions(\n",
    "    coordinates = dirccA,\n",
    "    profile = 'driving-hgv',\n",
    "    format = 'geojson',\n",
    "    preference = 'fastest',#shortest\n",
    "    #restrictions =  ... width,height(in metri), weight(in tonnellate)\n",
    "    validate = False\n",
    ")\n",
    "\n",
    "# TSP 1\n",
    "routeB = client.directions(\n",
    "    coordinates = dirccB,\n",
    "    profile = 'driving-hgv',\n",
    "    format = 'geojson',\n",
    "    validate = False\n",
    ")\n",
    "\n",
    "polyA = [list(reversed(coord)) for coord in routeA['features'][0]['geometry']['coordinates']]\n",
    "polyB = [list(reversed(coord)) for coord in routeB['features'][0]['geometry']['coordinates']]\n",
    "\n",
    "folium.PolyLine(polyA, color='red').add_to(M)\n",
    "folium.PolyLine(polyB, color='blue').add_to(M)\n",
    "\n",
    "for c in (ccA + ccB):\n",
    "    loc = list(reversed(c))\n",
    "    folium.Marker(loc, icon=folium.Icon(icon='archive', prefix='fa', color='green')).add_to(M)\n",
    "\n",
    "folium.Marker(point_start, icon=folium.Icon(icon='truck', prefix='fa', color='blue')).add_to(M)\n",
    "    \n",
    "M"
   ]
  },
  {
   "cell_type": "markdown",
   "metadata": {},
   "source": [
    "## VRP Vehicle Routing Problem  (using VROOM)\n",
    "\n",
    "Optimize job scheduling for multiple vehicles.\n",
    "The next example makes more use of the power of the ORS optimization endpoint(using Vroom)\n",
    "- [API Optimization](https://openrouteservice.org/dev/#/api-docs/optimization/post)\n",
    "- [API VROOM](https://github.com/VROOM-Project/vroom/blob/master/docs/API.md)\n",
    "\n",
    "**Definition of 2 vehicles each having capacity 5 and bins having contents a random value from 1 to 3**"
   ]
  },
  {
   "cell_type": "code",
   "execution_count": 9,
   "metadata": {
    "scrolled": false
   },
   "outputs": [
    {
     "data": {
      "text/html": [
       "<div style=\"width:100%;\"><div style=\"position:relative;width:100%;height:0;padding-bottom:60%;\"><iframe src=\"about:blank\" style=\"position:absolute;width:100%;height:100%;left:0;top:0;border:none !important;\" data-html=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 onload=\"this.contentDocument.open();this.contentDocument.write(atob(this.getAttribute('data-html')));this.contentDocument.close();\" allowfullscreen webkitallowfullscreen mozallowfullscreen></iframe></div></div>"
      ],
      "text/plain": [
       "<folium.folium.Map at 0x7fbaef4e4250>"
      ]
     },
     "execution_count": 9,
     "metadata": {},
     "output_type": "execute_result"
    }
   ],
   "source": [
    "m = folium.Map(location=center, tiles='OpenStreetMap', zoom_start=zoom)\n",
    "\n",
    "vehicles = []\n",
    "\n",
    "# VEICOLO B BLU\n",
    "point_startB = [point_start[0], point_start[1]]\n",
    "capacityB = 5\n",
    "vehicles.append(ors.optimization.Vehicle(\n",
    "    id = 1,\n",
    "    capacity = [capacityB],  # Limite di capacita' del Veicolo    \n",
    "    profile = 'driving-hgv',\n",
    "    start = list(reversed(point_startB)), # posizione di partenza veicoli\n",
    "    end = list(reversed(point_startB)),\n",
    "))\n",
    "folium.Marker(point_startB, tooltip=folium.Tooltip(capacityB,permanent=True), icon=folium.Icon(icon='truck', prefix='fa', color='blue')).add_to(m)\n",
    "\n",
    "# VEICOLO A ROSSO\n",
    "point_startA = [point_start[0] + 0.0015, point_start[1] - 0.0015]\n",
    "capacityA = 5\n",
    "vehicles.append(ors.optimization.Vehicle(\n",
    "    id = 1,\n",
    "    capacity = [capacityA],  # Limite di capacita' del Veicolo    \n",
    "    profile = 'driving-hgv',\n",
    "    start = list(reversed(point_startA)), # posizione di partenza veicoli\n",
    "    end = list(reversed(point_startA)),\n",
    "))\n",
    "folium.Marker(point_startA, tooltip=folium.Tooltip(capacityA,permanent=True), icon=folium.Icon(icon='truck', prefix='fa', color='red')).add_to(m)\n",
    "    \n",
    "#ELENCO BIDONI 4 Mezzolombardo e 6 Mezzocorona TOTALE 10 con CONTENUTO CASUALE\n",
    "job_locs = ccA + ccB\n",
    "\n",
    "jobs = []\n",
    "for idx, cc in enumerate(job_locs):\n",
    "    loc = list(reversed(cc))\n",
    "    \n",
    "    amount = random.randrange(0, 3) #random value of bin filling\n",
    "    \n",
    "    folium.Marker(loc, tooltip=folium.Tooltip(amount,permanent=True), icon=folium.Icon(icon='archive', prefix='fa', color='green')).add_to(m)\n",
    "    \n",
    "    #pass only fill bin\n",
    "    if amount != 0:\n",
    "        jobs.append(ors.optimization.Job(\n",
    "            id = idx,\n",
    "            location = cc,\n",
    "            amount = [amount], # Quantita' contenuta nel Bidone\n",
    "            #priority = [1-100] potrebbe essere utile anche priority\n",
    "            #ma non e' supportato, bug che verra presto risolto https://github.com/GIScience/openrouteservice-py/issues/39\n",
    "        ))    \n",
    "m"
   ]
  },
  {
   "cell_type": "code",
   "execution_count": 10,
   "metadata": {
    "scrolled": false
   },
   "outputs": [
    {
     "data": {
      "text/html": [
       "<div style=\"width:100%;\"><div style=\"position:relative;width:100%;height:0;padding-bottom:60%;\"><iframe src=\"about:blank\" style=\"position:absolute;width:100%;height:100%;left:0;top:0;border:none !important;\" data-html=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 onload=\"this.contentDocument.open();this.contentDocument.write(atob(this.getAttribute('data-html')));this.contentDocument.close();\" allowfullscreen webkitallowfullscreen mozallowfullscreen></iframe></div></div>"
      ],
      "text/plain": [
       "<folium.folium.Map at 0x7fbaef4e4250>"
      ]
     },
     "execution_count": 10,
     "metadata": {},
     "output_type": "execute_result"
    }
   ],
   "source": [
    "clientVrp = ors.Client(base_url=url_vroom, key='')\n",
    "\n",
    "# USIAMO VROOM ATTRAVERSO LA API PYTHON DI ORS\n",
    "\n",
    "solution = clientVrp.optimization(\n",
    "    vehicles = vehicles,\n",
    "    jobs = jobs,\n",
    "    geometry = True   #VROOM RESTITUISCE LA GEOMETRIA DEL PERCORSO OLTRE ALLA SOLUZIONE\n",
    ")\n",
    "\n",
    "#SOLUZIONE CALCOLATA DA VROOM\n",
    "\n",
    "solutionA = solution['routes'][0]\n",
    "solutionB = solution['routes'][1]\n",
    "\n",
    "folium.PolyLine(\n",
    "    locations = [list(reversed(coords)) for coords in ors.convert.decode_polyline(solutionA['geometry'])['coordinates']],\n",
    "    color = 'blue',\n",
    "    tooltip = folium.Tooltip('Distance: '+str(solutionA['distance']/1000)+'km', permanent=True)\n",
    ").add_to(m)\n",
    "\n",
    "folium.PolyLine(\n",
    "    locations = [list(reversed(coords)) for coords in ors.convert.decode_polyline(solutionB['geometry'])['coordinates']],\n",
    "    color = 'red',\n",
    "    tooltip = folium.Tooltip('Distance: '+str(solutionB['distance']/1000)+'km', permanent=True)\n",
    ").add_to(m)\n",
    "\n",
    "# in NERO strade chiuse a traffico pesante\n",
    "folium.GeoJson(\n",
    "    './data/restrictions_roads.geojson',\n",
    "    tooltip=folium.GeoJsonTooltip(fields=['maxweight','maxheight']),\n",
    "    style_function = (lambda x: {'color':'black','weight':10,'opacity':0.8})\n",
    ").add_to(m)\n",
    "m"
   ]
  },
  {
   "cell_type": "code",
   "execution_count": 5,
   "metadata": {
    "scrolled": false
   },
   "outputs": [
    {
     "name": "stdout",
     "output_type": "stream",
     "text": [
      "Vehicle Red\n",
      "total distance: 2.373km\n",
      "\n",
      "Steps:\n",
      "\n",
      "bin id: 5 distance: 954meters\n",
      "bin id: 4 distance: 1616meters\n",
      "\n",
      "\n",
      "Vehicle Blue\n",
      "total distance: 4.013km\n",
      "\n",
      "Steps:\n",
      "\n",
      "bin id: 1 distance: 1884meters\n",
      "bin id: 0 distance: 2746meters\n"
     ]
    }
   ],
   "source": [
    "print('Vehicle Red\\ntotal distance: '+str(solutionA['distance']/1000)+'km\\n')\n",
    "print('Steps:\\n')\n",
    "for d in solutionA['steps']:\n",
    "    if d['type']=='job':\n",
    "        print(\"bin id: {job} distance: {distance}meters\".format(**d))\n",
    "\n",
    "print('\\n')\n",
    "\n",
    "print('Vehicle Blue\\ntotal distance: '+str(solutionB['distance']/1000)+'km\\n')\n",
    "print('Steps:\\n')\n",
    "for d in solutionB['steps']:\n",
    "    if d['type']=='job':\n",
    "        print(\"bin id: {job} distance: {distance}meters\".format(**d))"
   ]
  },
  {
   "cell_type": "code",
   "execution_count": 7,
   "metadata": {
    "scrolled": false
   },
   "outputs": [
    {
     "data": {
      "text/plain": [
       "{'code': 0,\n",
       " 'summary': {'cost': 965,\n",
       "  'unassigned': 0,\n",
       "  'amount': [7],\n",
       "  'service': 0,\n",
       "  'duration': 965,\n",
       "  'waiting_time': 0,\n",
       "  'distance': 7938,\n",
       "  'computing_times': {'loading': 54, 'solving': 1, 'routing': 33}},\n",
       " 'unassigned': [],\n",
       " 'routes': [{'vehicle': 1,\n",
       "   'cost': 397,\n",
       "   'amount': [5],\n",
       "   'service': 0,\n",
       "   'duration': 397,\n",
       "   'waiting_time': 0,\n",
       "   'distance': 3924,\n",
       "   'steps': [{'type': 'start',\n",
       "     'location': [11.1066, 46.217],\n",
       "     'arrival': 0,\n",
       "     'duration': 0,\n",
       "     'distance': 0},\n",
       "    {'type': 'job',\n",
       "     'location': [11.122541427612305, 46.20986352455638],\n",
       "     'job': 8,\n",
       "     'service': 0,\n",
       "     'waiting_time': 0,\n",
       "     'arrival': 185,\n",
       "     'duration': 185,\n",
       "     'distance': 1865},\n",
       "    {'type': 'job',\n",
       "     'location': [11.123356819152832, 46.21419929496722],\n",
       "     'job': 6,\n",
       "     'service': 0,\n",
       "     'waiting_time': 0,\n",
       "     'arrival': 273,\n",
       "     'duration': 273,\n",
       "     'distance': 2493},\n",
       "    {'type': 'job',\n",
       "     'location': [11.118206977844238, 46.214911991592125],\n",
       "     'job': 5,\n",
       "     'service': 0,\n",
       "     'waiting_time': 0,\n",
       "     'arrival': 317,\n",
       "     'duration': 317,\n",
       "     'distance': 2970},\n",
       "    {'type': 'end',\n",
       "     'location': [11.1066, 46.217],\n",
       "     'arrival': 397,\n",
       "     'duration': 397,\n",
       "     'distance': 3924}],\n",
       "   'geometry': 'iwayGggxbADe@HqAA{@AwA@cAPwCNqBVmBRuANs@Jk@p@uCr@gCn@eB~@kBd@}@Rw@BKNkDDYJk@Ju@Do@@W?O?M?MIeCGgAAk@Ca@?GA]AiA?K?WFSFCDEBK?MAGEGGCK@CBQk@Sy@Su@Kg@DCBE@E@IVEvAcB|@eAnAyAzAcBBE`AgAlByBNQPSV[X]LOv@_A~AmBDHdAhBFJd@f@j@`@p@d@PTNTPXNMOLQYOUQUq@e@k@a@e@g@GKeAiBEI_BlBw@~@MNY\\\\WZQROWQ[oBmCMSWl@[\\\\k@\\\\e@Pu@ZK_@J^UNw@t@mBvCO\\\\En@?VAvC?`A?RA\\\\CZGDGP?FDLLFDAJf@Rt@Rx@Pj@ADAFAHDNHFB@GR?V?J?D@bA@\\\\?FB`@@j@FfAHdC?L?L?NAVEn@Kt@Kj@EXOjDCJSv@e@|@_AjBo@dBs@fCq@tCKj@Or@StAWlBOpBQvCAbA@vA@z@IpAEd@'},\n",
       "  {'vehicle': 1,\n",
       "   'cost': 568,\n",
       "   'amount': [2],\n",
       "   'service': 0,\n",
       "   'duration': 568,\n",
       "   'waiting_time': 0,\n",
       "   'distance': 4014,\n",
       "   'steps': [{'type': 'start',\n",
       "     'location': [11.1051, 46.2185],\n",
       "     'arrival': 0,\n",
       "     'duration': 0,\n",
       "     'distance': 0},\n",
       "    {'type': 'job',\n",
       "     'location': [11.09168529510498, 46.21057627744751],\n",
       "     'job': 2,\n",
       "     'service': 0,\n",
       "     'waiting_time': 0,\n",
       "     'arrival': 249,\n",
       "     'duration': 249,\n",
       "     'distance': 2015},\n",
       "    {'type': 'job',\n",
       "     'location': [11.096470355987549, 46.21344204466888],\n",
       "     'job': 3,\n",
       "     'service': 0,\n",
       "     'waiting_time': 0,\n",
       "     'arrival': 373,\n",
       "     'duration': 373,\n",
       "     'distance': 2694},\n",
       "    {'type': 'end',\n",
       "     'location': [11.1051, 46.2185],\n",
       "     'arrival': 568,\n",
       "     'duration': 568,\n",
       "     'distance': 4014}],\n",
       "   'geometry': 'cabyGe}wbAbAfB_DrFk@hAOb@@x@JVjBlEDJBFbFxLHRf@lAjAhCPb@@DBDTl@Nn@Hp@Hf@Aj@A|@An@?d@Av@EtE?R?^AdABz@Hn@BPXnAR|@\\\\SZSlAs@JCP?f@HLDh@XBBHFNJDHNVJNFLJRDFp@jA@@NVXf@BDFHp@lAJPRZJRJKz@eAf@o@h@o@`AkAJMHNx@nBPb@^|@DHf@lAHTRQFGXU~@wADc@Di@BMF_@Ng@FMN_@AC]q@aAkCIUEIKYO[Qg@]kCK}@Ko@G_@MsACaAAM?KAc@CuBASCgBIs@K[WNeAp@{@d@e@TsAhBKLi@t@_AgBSs@Ou@i@h@e@l@sAxBk@PI@qA^y@TYHgAB_@@?e@@o@@}@@k@Ig@Iq@Oo@Um@CEAEQc@kAiCg@mAIScFyLCGEKkBmEKWAy@Nc@j@iA~CsFcAgB'}]}"
      ]
     },
     "execution_count": 7,
     "metadata": {},
     "output_type": "execute_result"
    }
   ],
   "source": [
    "solution"
   ]
  },
  {
   "cell_type": "code",
   "execution_count": null,
   "metadata": {},
   "outputs": [],
   "source": []
  },
  {
   "cell_type": "code",
   "execution_count": null,
   "metadata": {},
   "outputs": [],
   "source": []
  },
  {
   "cell_type": "code",
   "execution_count": null,
   "metadata": {},
   "outputs": [],
   "source": []
  }
 ],
 "metadata": {
  "kernelspec": {
   "display_name": "Python 3",
   "language": "python",
   "name": "python3"
  },
  "language_info": {
   "codemirror_mode": {
    "name": "ipython",
    "version": 3
   },
   "file_extension": ".py",
   "mimetype": "text/x-python",
   "name": "python",
   "nbconvert_exporter": "python",
   "pygments_lexer": "ipython3",
   "version": "3.8.6"
  }
 },
 "nbformat": 4,
 "nbformat_minor": 2
}
