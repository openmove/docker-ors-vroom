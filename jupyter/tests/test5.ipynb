{
 "cells": [
  {
   "cell_type": "markdown",
   "metadata": {},
   "source": [
    "# VROOM testing without ORS\n",
    "updated with vroom 1.8.0 vroom-express 0.7, supporting Shipments\n",
    "\n",
    "docs:  https://github.com/VROOM-Project/vroom/blob/v1.8.0/docs/API.md"
   ]
  },
  {
   "cell_type": "code",
   "execution_count": 43,
   "metadata": {
    "scrolled": true
   },
   "outputs": [
    {
     "data": {
      "text/html": [
       "<div style=\"width:100%;\"><div style=\"position:relative;width:100%;height:0;padding-bottom:60%;\"><span style=\"color:#565656\">Make this Notebook Trusted to load map: File -> Trust Notebook</span><iframe src=\"about:blank\" style=\"position:absolute;width:100%;height:100%;left:0;top:0;border:none !important;\" data-html=%3C%21DOCTYPE%20html%3E%0A%3Chead%3E%20%20%20%20%0A%20%20%20%20%3Cmeta%20http-equiv%3D%22content-type%22%20content%3D%22text/html%3B%20charset%3DUTF-8%22%20/%3E%0A%20%20%20%20%0A%20%20%20%20%20%20%20%20%3Cscript%3E%0A%20%20%20%20%20%20%20%20%20%20%20%20L_NO_TOUCH%20%3D%20false%3B%0A%20%20%20%20%20%20%20%20%20%20%20%20L_DISABLE_3D%20%3D%20false%3B%0A%20%20%20%20%20%20%20%20%3C/script%3E%0A%20%20%20%20%0A%20%20%20%20%3Cstyle%3Ehtml%2C%20body%20%7Bwidth%3A%20100%25%3Bheight%3A%20100%25%3Bmargin%3A%200%3Bpadding%3A%200%3B%7D%3C/style%3E%0A%20%20%20%20%3Cstyle%3E%23map%20%7Bposition%3Aabsolute%3Btop%3A0%3Bbottom%3A0%3Bright%3A0%3Bleft%3A0%3B%7D%3C/style%3E%0A%20%20%20%20%3Cscript%20src%3D%22https%3A//cdn.jsdelivr.net/npm/leaflet%401.6.0/dist/leaflet.js%22%3E%3C/script%3E%0A%20%20%20%20%3Cscript%20src%3D%22https%3A//code.jquery.com/jquery-1.12.4.min.js%22%3E%3C/script%3E%0A%20%20%20%20%3Cscript%20src%3D%22https%3A//maxcdn.bootstrapcdn.com/bootstrap/3.2.0/js/bootstrap.min.js%22%3E%3C/script%3E%0A%20%20%20%20%3Cscript%20src%3D%22https%3A//cdnjs.cloudflare.com/ajax/libs/Leaflet.awesome-markers/2.0.2/leaflet.awesome-markers.js%22%3E%3C/script%3E%0A%20%20%20%20%3Clink%20rel%3D%22stylesheet%22%20href%3D%22https%3A//cdn.jsdelivr.net/npm/leaflet%401.6.0/dist/leaflet.css%22/%3E%0A%20%20%20%20%3Clink%20rel%3D%22stylesheet%22%20href%3D%22https%3A//maxcdn.bootstrapcdn.com/bootstrap/3.2.0/css/bootstrap.min.css%22/%3E%0A%20%20%20%20%3Clink%20rel%3D%22stylesheet%22%20href%3D%22https%3A//maxcdn.bootstrapcdn.com/bootstrap/3.2.0/css/bootstrap-theme.min.css%22/%3E%0A%20%20%20%20%3Clink%20rel%3D%22stylesheet%22%20href%3D%22https%3A//maxcdn.bootstrapcdn.com/font-awesome/4.6.3/css/font-awesome.min.css%22/%3E%0A%20%20%20%20%3Clink%20rel%3D%22stylesheet%22%20href%3D%22https%3A//cdnjs.cloudflare.com/ajax/libs/Leaflet.awesome-markers/2.0.2/leaflet.awesome-markers.css%22/%3E%0A%20%20%20%20%3Clink%20rel%3D%22stylesheet%22%20href%3D%22https%3A//cdn.jsdelivr.net/gh/python-visualization/folium/folium/templates/leaflet.awesome.rotate.min.css%22/%3E%0A%20%20%20%20%0A%20%20%20%20%20%20%20%20%20%20%20%20%3Cmeta%20name%3D%22viewport%22%20content%3D%22width%3Ddevice-width%2C%0A%20%20%20%20%20%20%20%20%20%20%20%20%20%20%20%20initial-scale%3D1.0%2C%20maximum-scale%3D1.0%2C%20user-scalable%3Dno%22%20/%3E%0A%20%20%20%20%20%20%20%20%20%20%20%20%3Cstyle%3E%0A%20%20%20%20%20%20%20%20%20%20%20%20%20%20%20%20%23map_e1295dc438734370afab2785373160f8%20%7B%0A%20%20%20%20%20%20%20%20%20%20%20%20%20%20%20%20%20%20%20%20position%3A%20relative%3B%0A%20%20%20%20%20%20%20%20%20%20%20%20%20%20%20%20%20%20%20%20width%3A%20100.0%25%3B%0A%20%20%20%20%20%20%20%20%20%20%20%20%20%20%20%20%20%20%20%20height%3A%20100.0%25%3B%0A%20%20%20%20%20%20%20%20%20%20%20%20%20%20%20%20%20%20%20%20left%3A%200.0%25%3B%0A%20%20%20%20%20%20%20%20%20%20%20%20%20%20%20%20%20%20%20%20top%3A%200.0%25%3B%0A%20%20%20%20%20%20%20%20%20%20%20%20%20%20%20%20%7D%0A%20%20%20%20%20%20%20%20%20%20%20%20%3C/style%3E%0A%20%20%20%20%20%20%20%20%0A%3C/head%3E%0A%3Cbody%3E%20%20%20%20%0A%20%20%20%20%0A%20%20%20%20%20%20%20%20%20%20%20%20%3Cdiv%20class%3D%22folium-map%22%20id%3D%22map_e1295dc438734370afab2785373160f8%22%20%3E%3C/div%3E%0A%20%20%20%20%20%20%20%20%0A%3C/body%3E%0A%3Cscript%3E%20%20%20%20%0A%20%20%20%20%0A%20%20%20%20%20%20%20%20%20%20%20%20var%20map_e1295dc438734370afab2785373160f8%20%3D%20L.map%28%0A%20%20%20%20%20%20%20%20%20%20%20%20%20%20%20%20%22map_e1295dc438734370afab2785373160f8%22%2C%0A%20%20%20%20%20%20%20%20%20%20%20%20%20%20%20%20%7B%0A%20%20%20%20%20%20%20%20%20%20%20%20%20%20%20%20%20%20%20%20center%3A%20%5B46.2155%2C%2011.1065%5D%2C%0A%20%20%20%20%20%20%20%20%20%20%20%20%20%20%20%20%20%20%20%20crs%3A%20L.CRS.EPSG3857%2C%0A%20%20%20%20%20%20%20%20%20%20%20%20%20%20%20%20%20%20%20%20zoom%3A%2015%2C%0A%20%20%20%20%20%20%20%20%20%20%20%20%20%20%20%20%20%20%20%20zoomControl%3A%20true%2C%0A%20%20%20%20%20%20%20%20%20%20%20%20%20%20%20%20%20%20%20%20preferCanvas%3A%20false%2C%0A%20%20%20%20%20%20%20%20%20%20%20%20%20%20%20%20%7D%0A%20%20%20%20%20%20%20%20%20%20%20%20%29%3B%0A%0A%20%20%20%20%20%20%20%20%20%20%20%20%0A%0A%20%20%20%20%20%20%20%20%0A%20%20%20%20%0A%20%20%20%20%20%20%20%20%20%20%20%20var%20tile_layer_71365d2df27940dfaab9756628357158%20%3D%20L.tileLayer%28%0A%20%20%20%20%20%20%20%20%20%20%20%20%20%20%20%20%22https%3A//%7Bs%7D.tile.openstreetmap.org/%7Bz%7D/%7Bx%7D/%7By%7D.png%22%2C%0A%20%20%20%20%20%20%20%20%20%20%20%20%20%20%20%20%7B%22attribution%22%3A%20%22Data%20by%20%5Cu0026copy%3B%20%5Cu003ca%20href%3D%5C%22http%3A//openstreetmap.org%5C%22%5Cu003eOpenStreetMap%5Cu003c/a%5Cu003e%2C%20under%20%5Cu003ca%20href%3D%5C%22http%3A//www.openstreetmap.org/copyright%5C%22%5Cu003eODbL%5Cu003c/a%5Cu003e.%22%2C%20%22detectRetina%22%3A%20false%2C%20%22maxNativeZoom%22%3A%2018%2C%20%22maxZoom%22%3A%2018%2C%20%22minZoom%22%3A%200%2C%20%22noWrap%22%3A%20false%2C%20%22opacity%22%3A%201%2C%20%22subdomains%22%3A%20%22abc%22%2C%20%22tms%22%3A%20false%7D%0A%20%20%20%20%20%20%20%20%20%20%20%20%29.addTo%28map_e1295dc438734370afab2785373160f8%29%3B%0A%20%20%20%20%20%20%20%20%0A%20%20%20%20%0A%20%20%20%20%20%20%20%20%20%20%20%20var%20marker_cd183a6e3cd24b388f09254ee0f79963%20%3D%20L.marker%28%0A%20%20%20%20%20%20%20%20%20%20%20%20%20%20%20%20%5B46.224%2C%2011.11%5D%2C%0A%20%20%20%20%20%20%20%20%20%20%20%20%20%20%20%20%7B%7D%0A%20%20%20%20%20%20%20%20%20%20%20%20%29.addTo%28map_e1295dc438734370afab2785373160f8%29%3B%0A%20%20%20%20%20%20%20%20%0A%20%20%20%20%0A%20%20%20%20%20%20%20%20%20%20%20%20var%20icon_ec1986cd22784152b5ae3b40d8b7cdd0%20%3D%20L.AwesomeMarkers.icon%28%0A%20%20%20%20%20%20%20%20%20%20%20%20%20%20%20%20%7B%22extraClasses%22%3A%20%22fa-rotate-0%22%2C%20%22icon%22%3A%20%22truck%22%2C%20%22iconColor%22%3A%20%22white%22%2C%20%22markerColor%22%3A%20%22blue%22%2C%20%22prefix%22%3A%20%22fa%22%7D%0A%20%20%20%20%20%20%20%20%20%20%20%20%29%3B%0A%20%20%20%20%20%20%20%20%20%20%20%20marker_cd183a6e3cd24b388f09254ee0f79963.setIcon%28icon_ec1986cd22784152b5ae3b40d8b7cdd0%29%3B%0A%20%20%20%20%20%20%20%20%0A%20%20%20%20%0A%20%20%20%20%20%20%20%20%20%20%20%20marker_cd183a6e3cd24b388f09254ee0f79963.bindTooltip%28%0A%20%20%20%20%20%20%20%20%20%20%20%20%20%20%20%20%60%3Cdiv%3E%0A%20%20%20%20%20%20%20%20%20%20%20%20%20%20%20%20%20%20%20%20%20vehicle%201%3Cbr%3E%20capacity%201%3Cbr%3Etimes%20from%3A%2014%3A00%3Cbr%3Eto%2019%3A00%0A%20%20%20%20%20%20%20%20%20%20%20%20%20%20%20%20%20%3C/div%3E%60%2C%0A%20%20%20%20%20%20%20%20%20%20%20%20%20%20%20%20%7B%22permanent%22%3A%20true%2C%20%22sticky%22%3A%20true%7D%0A%20%20%20%20%20%20%20%20%20%20%20%20%29%3B%0A%20%20%20%20%20%20%20%20%0A%20%20%20%20%0A%20%20%20%20%20%20%20%20%20%20%20%20var%20marker_c36d258ca1a2471d9b807ecefc99d2d6%20%3D%20L.marker%28%0A%20%20%20%20%20%20%20%20%20%20%20%20%20%20%20%20%5B46.223%2C%2011.109%5D%2C%0A%20%20%20%20%20%20%20%20%20%20%20%20%20%20%20%20%7B%7D%0A%20%20%20%20%20%20%20%20%20%20%20%20%29.addTo%28map_e1295dc438734370afab2785373160f8%29%3B%0A%20%20%20%20%20%20%20%20%0A%20%20%20%20%0A%20%20%20%20%20%20%20%20%20%20%20%20var%20icon_ac6d305b481341a38c3a9ee142b3c37b%20%3D%20L.AwesomeMarkers.icon%28%0A%20%20%20%20%20%20%20%20%20%20%20%20%20%20%20%20%7B%22extraClasses%22%3A%20%22fa-rotate-0%22%2C%20%22icon%22%3A%20%22truck%22%2C%20%22iconColor%22%3A%20%22white%22%2C%20%22markerColor%22%3A%20%22red%22%2C%20%22prefix%22%3A%20%22fa%22%7D%0A%20%20%20%20%20%20%20%20%20%20%20%20%29%3B%0A%20%20%20%20%20%20%20%20%20%20%20%20marker_c36d258ca1a2471d9b807ecefc99d2d6.setIcon%28icon_ac6d305b481341a38c3a9ee142b3c37b%29%3B%0A%20%20%20%20%20%20%20%20%0A%20%20%20%20%0A%20%20%20%20%20%20%20%20%20%20%20%20marker_c36d258ca1a2471d9b807ecefc99d2d6.bindTooltip%28%0A%20%20%20%20%20%20%20%20%20%20%20%20%20%20%20%20%60%3Cdiv%3E%0A%20%20%20%20%20%20%20%20%20%20%20%20%20%20%20%20%20%20%20%20%20vehicle%202%3Cbr%3E%20capacity%201%3Cbr%3Etimes%20from%3A%2008%3A00%3Cbr%3Eto%2013%3A00%0A%20%20%20%20%20%20%20%20%20%20%20%20%20%20%20%20%20%3C/div%3E%60%2C%0A%20%20%20%20%20%20%20%20%20%20%20%20%20%20%20%20%7B%22permanent%22%3A%20true%2C%20%22sticky%22%3A%20true%7D%0A%20%20%20%20%20%20%20%20%20%20%20%20%29%3B%0A%20%20%20%20%20%20%20%20%0A%20%20%20%20%0A%20%20%20%20%20%20%20%20%20%20%20%20var%20marker_2a321fabb0c94aaeaa7d67e02ab01375%20%3D%20L.marker%28%0A%20%20%20%20%20%20%20%20%20%20%20%20%20%20%20%20%5B46.2183172744161%2C%2011.092028617858887%5D%2C%0A%20%20%20%20%20%20%20%20%20%20%20%20%20%20%20%20%7B%7D%0A%20%20%20%20%20%20%20%20%20%20%20%20%29.addTo%28map_e1295dc438734370afab2785373160f8%29%3B%0A%20%20%20%20%20%20%20%20%0A%20%20%20%20%0A%20%20%20%20%20%20%20%20%20%20%20%20var%20icon_4397213e4005423c9c7fcba0281e9942%20%3D%20L.AwesomeMarkers.icon%28%0A%20%20%20%20%20%20%20%20%20%20%20%20%20%20%20%20%7B%22extraClasses%22%3A%20%22fa-rotate-0%22%2C%20%22icon%22%3A%20%22archive%22%2C%20%22iconColor%22%3A%20%22white%22%2C%20%22markerColor%22%3A%20%22green%22%2C%20%22prefix%22%3A%20%22fa%22%7D%0A%20%20%20%20%20%20%20%20%20%20%20%20%29%3B%0A%20%20%20%20%20%20%20%20%20%20%20%20marker_2a321fabb0c94aaeaa7d67e02ab01375.setIcon%28icon_4397213e4005423c9c7fcba0281e9942%29%3B%0A%20%20%20%20%20%20%20%20%0A%20%20%20%20%0A%20%20%20%20%20%20%20%20%20%20%20%20marker_2a321fabb0c94aaeaa7d67e02ab01375.bindTooltip%28%0A%20%20%20%20%20%20%20%20%20%20%20%20%20%20%20%20%60%3Cdiv%3E%0A%20%20%20%20%20%20%20%20%20%20%20%20%20%20%20%20%20%20%20%20%20pack%200%3Cbr%3E%20quantity%201%20%3Cbr%3E%20delivery%20time%203min%3Cbr%3Etimes%20from%3A%2013%3A35%3Cbr%3Eto%2017%3A23%0A%20%20%20%20%20%20%20%20%20%20%20%20%20%20%20%20%20%3C/div%3E%60%2C%0A%20%20%20%20%20%20%20%20%20%20%20%20%20%20%20%20%7B%22permanent%22%3A%20true%2C%20%22sticky%22%3A%20true%7D%0A%20%20%20%20%20%20%20%20%20%20%20%20%29%3B%0A%20%20%20%20%20%20%20%20%0A%20%20%20%20%0A%20%20%20%20%20%20%20%20%20%20%20%20var%20marker_37e825a131a54f519f868ec8691b9280%20%3D%20L.marker%28%0A%20%20%20%20%20%20%20%20%20%20%20%20%20%20%20%20%5B46.2161294935962%2C%2011.08793020248413%5D%2C%0A%20%20%20%20%20%20%20%20%20%20%20%20%20%20%20%20%7B%7D%0A%20%20%20%20%20%20%20%20%20%20%20%20%29.addTo%28map_e1295dc438734370afab2785373160f8%29%3B%0A%20%20%20%20%20%20%20%20%0A%20%20%20%20%0A%20%20%20%20%20%20%20%20%20%20%20%20var%20icon_4460dff874024de7a27da6641143fc53%20%3D%20L.AwesomeMarkers.icon%28%0A%20%20%20%20%20%20%20%20%20%20%20%20%20%20%20%20%7B%22extraClasses%22%3A%20%22fa-rotate-0%22%2C%20%22icon%22%3A%20%22archive%22%2C%20%22iconColor%22%3A%20%22white%22%2C%20%22markerColor%22%3A%20%22green%22%2C%20%22prefix%22%3A%20%22fa%22%7D%0A%20%20%20%20%20%20%20%20%20%20%20%20%29%3B%0A%20%20%20%20%20%20%20%20%20%20%20%20marker_37e825a131a54f519f868ec8691b9280.setIcon%28icon_4460dff874024de7a27da6641143fc53%29%3B%0A%20%20%20%20%20%20%20%20%0A%20%20%20%20%0A%20%20%20%20%20%20%20%20%20%20%20%20marker_37e825a131a54f519f868ec8691b9280.bindTooltip%28%0A%20%20%20%20%20%20%20%20%20%20%20%20%20%20%20%20%60%3Cdiv%3E%0A%20%20%20%20%20%20%20%20%20%20%20%20%20%20%20%20%20%20%20%20%20pack%201%3Cbr%3E%20quantity%201%20%3Cbr%3E%20delivery%20time%203min%3Cbr%3Etimes%20from%3A%2014%3A23%3Cbr%3Eto%2018%3A11%0A%20%20%20%20%20%20%20%20%20%20%20%20%20%20%20%20%20%3C/div%3E%60%2C%0A%20%20%20%20%20%20%20%20%20%20%20%20%20%20%20%20%7B%22permanent%22%3A%20true%2C%20%22sticky%22%3A%20true%7D%0A%20%20%20%20%20%20%20%20%20%20%20%20%29%3B%0A%20%20%20%20%20%20%20%20%0A%20%20%20%20%0A%20%20%20%20%20%20%20%20%20%20%20%20var%20marker_a063dc08a24c41158fa526f1d2ae320a%20%3D%20L.marker%28%0A%20%20%20%20%20%20%20%20%20%20%20%20%20%20%20%20%5B46.21057627744751%2C%2011.091685295104979%5D%2C%0A%20%20%20%20%20%20%20%20%20%20%20%20%20%20%20%20%7B%7D%0A%20%20%20%20%20%20%20%20%20%20%20%20%29.addTo%28map_e1295dc438734370afab2785373160f8%29%3B%0A%20%20%20%20%20%20%20%20%0A%20%20%20%20%0A%20%20%20%20%20%20%20%20%20%20%20%20var%20icon_6f2c1c32983941c0aa7deda53d09b155%20%3D%20L.AwesomeMarkers.icon%28%0A%20%20%20%20%20%20%20%20%20%20%20%20%20%20%20%20%7B%22extraClasses%22%3A%20%22fa-rotate-0%22%2C%20%22icon%22%3A%20%22archive%22%2C%20%22iconColor%22%3A%20%22white%22%2C%20%22markerColor%22%3A%20%22green%22%2C%20%22prefix%22%3A%20%22fa%22%7D%0A%20%20%20%20%20%20%20%20%20%20%20%20%29%3B%0A%20%20%20%20%20%20%20%20%20%20%20%20marker_a063dc08a24c41158fa526f1d2ae320a.setIcon%28icon_6f2c1c32983941c0aa7deda53d09b155%29%3B%0A%20%20%20%20%20%20%20%20%0A%20%20%20%20%0A%20%20%20%20%20%20%20%20%20%20%20%20marker_a063dc08a24c41158fa526f1d2ae320a.bindTooltip%28%0A%20%20%20%20%20%20%20%20%20%20%20%20%20%20%20%20%60%3Cdiv%3E%0A%20%20%20%20%20%20%20%20%20%20%20%20%20%20%20%20%20%20%20%20%20pack%202%3Cbr%3E%20quantity%201%20%3Cbr%3E%20delivery%20time%202min%3Cbr%3Etimes%20from%3A%2013%3A56%3Cbr%3Eto%2017%3A45%0A%20%20%20%20%20%20%20%20%20%20%20%20%20%20%20%20%20%3C/div%3E%60%2C%0A%20%20%20%20%20%20%20%20%20%20%20%20%20%20%20%20%7B%22permanent%22%3A%20true%2C%20%22sticky%22%3A%20true%7D%0A%20%20%20%20%20%20%20%20%20%20%20%20%29%3B%0A%20%20%20%20%20%20%20%20%0A%20%20%20%20%0A%20%20%20%20%20%20%20%20%20%20%20%20var%20marker_d461580950994bc7ab4f1df12dcdbc69%20%3D%20L.marker%28%0A%20%20%20%20%20%20%20%20%20%20%20%20%20%20%20%20%5B46.21344204466888%2C%2011.096470355987549%5D%2C%0A%20%20%20%20%20%20%20%20%20%20%20%20%20%20%20%20%7B%7D%0A%20%20%20%20%20%20%20%20%20%20%20%20%29.addTo%28map_e1295dc438734370afab2785373160f8%29%3B%0A%20%20%20%20%20%20%20%20%0A%20%20%20%20%0A%20%20%20%20%20%20%20%20%20%20%20%20var%20icon_a5b23e2b614447c293e594da5dd1f961%20%3D%20L.AwesomeMarkers.icon%28%0A%20%20%20%20%20%20%20%20%20%20%20%20%20%20%20%20%7B%22extraClasses%22%3A%20%22fa-rotate-0%22%2C%20%22icon%22%3A%20%22archive%22%2C%20%22iconColor%22%3A%20%22white%22%2C%20%22markerColor%22%3A%20%22green%22%2C%20%22prefix%22%3A%20%22fa%22%7D%0A%20%20%20%20%20%20%20%20%20%20%20%20%29%3B%0A%20%20%20%20%20%20%20%20%20%20%20%20marker_d461580950994bc7ab4f1df12dcdbc69.setIcon%28icon_a5b23e2b614447c293e594da5dd1f961%29%3B%0A%20%20%20%20%20%20%20%20%0A%20%20%20%20%0A%20%20%20%20%20%20%20%20%20%20%20%20marker_d461580950994bc7ab4f1df12dcdbc69.bindTooltip%28%0A%20%20%20%20%20%20%20%20%20%20%20%20%20%20%20%20%60%3Cdiv%3E%0A%20%20%20%20%20%20%20%20%20%20%20%20%20%20%20%20%20%20%20%20%20pack%203%3Cbr%3E%20quantity%201%20%3Cbr%3E%20delivery%20time%202min%3Cbr%3Etimes%20from%3A%2014%3A42%3Cbr%3Eto%2018%3A30%0A%20%20%20%20%20%20%20%20%20%20%20%20%20%20%20%20%20%3C/div%3E%60%2C%0A%20%20%20%20%20%20%20%20%20%20%20%20%20%20%20%20%7B%22permanent%22%3A%20true%2C%20%22sticky%22%3A%20true%7D%0A%20%20%20%20%20%20%20%20%20%20%20%20%29%3B%0A%20%20%20%20%20%20%20%20%0A%20%20%20%20%0A%20%20%20%20%20%20%20%20%20%20%20%20var%20marker_b612b98e7e5c408596330ae705c6986d%20%3D%20L.marker%28%0A%20%20%20%20%20%20%20%20%20%20%20%20%20%20%20%20%5B46.21858452155989%2C%2011.114227983093262%5D%2C%0A%20%20%20%20%20%20%20%20%20%20%20%20%20%20%20%20%7B%7D%0A%20%20%20%20%20%20%20%20%20%20%20%20%29.addTo%28map_e1295dc438734370afab2785373160f8%29%3B%0A%20%20%20%20%20%20%20%20%0A%20%20%20%20%0A%20%20%20%20%20%20%20%20%20%20%20%20var%20icon_c052d2efcda649c89a5ee298c7d16eac%20%3D%20L.AwesomeMarkers.icon%28%0A%20%20%20%20%20%20%20%20%20%20%20%20%20%20%20%20%7B%22extraClasses%22%3A%20%22fa-rotate-0%22%2C%20%22icon%22%3A%20%22archive%22%2C%20%22iconColor%22%3A%20%22white%22%2C%20%22markerColor%22%3A%20%22green%22%2C%20%22prefix%22%3A%20%22fa%22%7D%0A%20%20%20%20%20%20%20%20%20%20%20%20%29%3B%0A%20%20%20%20%20%20%20%20%20%20%20%20marker_b612b98e7e5c408596330ae705c6986d.setIcon%28icon_c052d2efcda649c89a5ee298c7d16eac%29%3B%0A%20%20%20%20%20%20%20%20%0A%20%20%20%20%0A%20%20%20%20%20%20%20%20%20%20%20%20marker_b612b98e7e5c408596330ae705c6986d.bindTooltip%28%0A%20%20%20%20%20%20%20%20%20%20%20%20%20%20%20%20%60%3Cdiv%3E%0A%20%20%20%20%20%20%20%20%20%20%20%20%20%20%20%20%20%20%20%20%20pack%204%3Cbr%3E%20quantity%201%20%3Cbr%3E%20delivery%20time%205min%3Cbr%3Etimes%20from%3A%2014%3A36%3Cbr%3Eto%2018%3A25%0A%20%20%20%20%20%20%20%20%20%20%20%20%20%20%20%20%20%3C/div%3E%60%2C%0A%20%20%20%20%20%20%20%20%20%20%20%20%20%20%20%20%7B%22permanent%22%3A%20true%2C%20%22sticky%22%3A%20true%7D%0A%20%20%20%20%20%20%20%20%20%20%20%20%29%3B%0A%20%20%20%20%20%20%20%20%0A%20%20%20%20%0A%20%20%20%20%20%20%20%20%20%20%20%20var%20marker_f81b0097449846aa8c6e11e95c41ebc8%20%3D%20L.marker%28%0A%20%20%20%20%20%20%20%20%20%20%20%20%20%20%20%20%5B46.214911991592125%2C%2011.118206977844238%5D%2C%0A%20%20%20%20%20%20%20%20%20%20%20%20%20%20%20%20%7B%7D%0A%20%20%20%20%20%20%20%20%20%20%20%20%29.addTo%28map_e1295dc438734370afab2785373160f8%29%3B%0A%20%20%20%20%20%20%20%20%0A%20%20%20%20%0A%20%20%20%20%20%20%20%20%20%20%20%20var%20icon_acaa12482b904d2cbe4057cdb1ee90b4%20%3D%20L.AwesomeMarkers.icon%28%0A%20%20%20%20%20%20%20%20%20%20%20%20%20%20%20%20%7B%22extraClasses%22%3A%20%22fa-rotate-0%22%2C%20%22icon%22%3A%20%22archive%22%2C%20%22iconColor%22%3A%20%22white%22%2C%20%22markerColor%22%3A%20%22green%22%2C%20%22prefix%22%3A%20%22fa%22%7D%0A%20%20%20%20%20%20%20%20%20%20%20%20%29%3B%0A%20%20%20%20%20%20%20%20%20%20%20%20marker_f81b0097449846aa8c6e11e95c41ebc8.setIcon%28icon_acaa12482b904d2cbe4057cdb1ee90b4%29%3B%0A%20%20%20%20%20%20%20%20%0A%20%20%20%20%0A%20%20%20%20%20%20%20%20%20%20%20%20marker_f81b0097449846aa8c6e11e95c41ebc8.bindTooltip%28%0A%20%20%20%20%20%20%20%20%20%20%20%20%20%20%20%20%60%3Cdiv%3E%0A%20%20%20%20%20%20%20%20%20%20%20%20%20%20%20%20%20%20%20%20%20pack%205%3Cbr%3E%20quantity%201%20%3Cbr%3E%20delivery%20time%205min%3Cbr%3Etimes%20from%3A%2013%3A57%3Cbr%3Eto%2017%3A45%0A%20%20%20%20%20%20%20%20%20%20%20%20%20%20%20%20%20%3C/div%3E%60%2C%0A%20%20%20%20%20%20%20%20%20%20%20%20%20%20%20%20%7B%22permanent%22%3A%20true%2C%20%22sticky%22%3A%20true%7D%0A%20%20%20%20%20%20%20%20%20%20%20%20%29%3B%0A%20%20%20%20%20%20%20%20%0A%20%20%20%20%0A%20%20%20%20%20%20%20%20%20%20%20%20var%20marker_94a00fc290174ea897170b61343dbfe1%20%3D%20L.marker%28%0A%20%20%20%20%20%20%20%20%20%20%20%20%20%20%20%20%5B46.21419929496722%2C%2011.123356819152832%5D%2C%0A%20%20%20%20%20%20%20%20%20%20%20%20%20%20%20%20%7B%7D%0A%20%20%20%20%20%20%20%20%20%20%20%20%29.addTo%28map_e1295dc438734370afab2785373160f8%29%3B%0A%20%20%20%20%20%20%20%20%0A%20%20%20%20%0A%20%20%20%20%20%20%20%20%20%20%20%20var%20icon_4b518717e8f9457989600fa135828d05%20%3D%20L.AwesomeMarkers.icon%28%0A%20%20%20%20%20%20%20%20%20%20%20%20%20%20%20%20%7B%22extraClasses%22%3A%20%22fa-rotate-0%22%2C%20%22icon%22%3A%20%22archive%22%2C%20%22iconColor%22%3A%20%22white%22%2C%20%22markerColor%22%3A%20%22green%22%2C%20%22prefix%22%3A%20%22fa%22%7D%0A%20%20%20%20%20%20%20%20%20%20%20%20%29%3B%0A%20%20%20%20%20%20%20%20%20%20%20%20marker_94a00fc290174ea897170b61343dbfe1.setIcon%28icon_4b518717e8f9457989600fa135828d05%29%3B%0A%20%20%20%20%20%20%20%20%0A%20%20%20%20%0A%20%20%20%20%20%20%20%20%20%20%20%20marker_94a00fc290174ea897170b61343dbfe1.bindTooltip%28%0A%20%20%20%20%20%20%20%20%20%20%20%20%20%20%20%20%60%3Cdiv%3E%0A%20%20%20%20%20%20%20%20%20%20%20%20%20%20%20%20%20%20%20%20%20pack%206%3Cbr%3E%20quantity%201%20%3Cbr%3E%20delivery%20time%204min%3Cbr%3Etimes%20from%3A%2014%3A50%3Cbr%3Eto%2018%3A39%0A%20%20%20%20%20%20%20%20%20%20%20%20%20%20%20%20%20%3C/div%3E%60%2C%0A%20%20%20%20%20%20%20%20%20%20%20%20%20%20%20%20%7B%22permanent%22%3A%20true%2C%20%22sticky%22%3A%20true%7D%0A%20%20%20%20%20%20%20%20%20%20%20%20%29%3B%0A%20%20%20%20%20%20%20%20%0A%20%20%20%20%0A%20%20%20%20%20%20%20%20%20%20%20%20var%20marker_8b60d58460d248138da9830b2415e3e9%20%3D%20L.marker%28%0A%20%20%20%20%20%20%20%20%20%20%20%20%20%20%20%20%5B46.211972058400264%2C%2011.127262115478516%5D%2C%0A%20%20%20%20%20%20%20%20%20%20%20%20%20%20%20%20%7B%7D%0A%20%20%20%20%20%20%20%20%20%20%20%20%29.addTo%28map_e1295dc438734370afab2785373160f8%29%3B%0A%20%20%20%20%20%20%20%20%0A%20%20%20%20%0A%20%20%20%20%20%20%20%20%20%20%20%20var%20icon_b194adff9d284766be9d709840d7ed1f%20%3D%20L.AwesomeMarkers.icon%28%0A%20%20%20%20%20%20%20%20%20%20%20%20%20%20%20%20%7B%22extraClasses%22%3A%20%22fa-rotate-0%22%2C%20%22icon%22%3A%20%22archive%22%2C%20%22iconColor%22%3A%20%22white%22%2C%20%22markerColor%22%3A%20%22green%22%2C%20%22prefix%22%3A%20%22fa%22%7D%0A%20%20%20%20%20%20%20%20%20%20%20%20%29%3B%0A%20%20%20%20%20%20%20%20%20%20%20%20marker_8b60d58460d248138da9830b2415e3e9.setIcon%28icon_b194adff9d284766be9d709840d7ed1f%29%3B%0A%20%20%20%20%20%20%20%20%0A%20%20%20%20%0A%20%20%20%20%20%20%20%20%20%20%20%20marker_8b60d58460d248138da9830b2415e3e9.bindTooltip%28%0A%20%20%20%20%20%20%20%20%20%20%20%20%20%20%20%20%60%3Cdiv%3E%0A%20%20%20%20%20%20%20%20%20%20%20%20%20%20%20%20%20%20%20%20%20pack%207%3Cbr%3E%20quantity%201%20%3Cbr%3E%20delivery%20time%204min%3Cbr%3Etimes%20from%3A%2014%3A52%3Cbr%3Eto%2018%3A40%0A%20%20%20%20%20%20%20%20%20%20%20%20%20%20%20%20%20%3C/div%3E%60%2C%0A%20%20%20%20%20%20%20%20%20%20%20%20%20%20%20%20%7B%22permanent%22%3A%20true%2C%20%22sticky%22%3A%20true%7D%0A%20%20%20%20%20%20%20%20%20%20%20%20%29%3B%0A%20%20%20%20%20%20%20%20%0A%20%20%20%20%0A%20%20%20%20%20%20%20%20%20%20%20%20var%20marker_6dcbcc68498a4ad0aa86311e6d4055c5%20%3D%20L.marker%28%0A%20%20%20%20%20%20%20%20%20%20%20%20%20%20%20%20%5B46.20986352455638%2C%2011.122541427612305%5D%2C%0A%20%20%20%20%20%20%20%20%20%20%20%20%20%20%20%20%7B%7D%0A%20%20%20%20%20%20%20%20%20%20%20%20%29.addTo%28map_e1295dc438734370afab2785373160f8%29%3B%0A%20%20%20%20%20%20%20%20%0A%20%20%20%20%0A%20%20%20%20%20%20%20%20%20%20%20%20var%20icon_0071720800ce443187fcca57bb47eff9%20%3D%20L.AwesomeMarkers.icon%28%0A%20%20%20%20%20%20%20%20%20%20%20%20%20%20%20%20%7B%22extraClasses%22%3A%20%22fa-rotate-0%22%2C%20%22icon%22%3A%20%22archive%22%2C%20%22iconColor%22%3A%20%22white%22%2C%20%22markerColor%22%3A%20%22green%22%2C%20%22prefix%22%3A%20%22fa%22%7D%0A%20%20%20%20%20%20%20%20%20%20%20%20%29%3B%0A%20%20%20%20%20%20%20%20%20%20%20%20marker_6dcbcc68498a4ad0aa86311e6d4055c5.setIcon%28icon_0071720800ce443187fcca57bb47eff9%29%3B%0A%20%20%20%20%20%20%20%20%0A%20%20%20%20%0A%20%20%20%20%20%20%20%20%20%20%20%20marker_6dcbcc68498a4ad0aa86311e6d4055c5.bindTooltip%28%0A%20%20%20%20%20%20%20%20%20%20%20%20%20%20%20%20%60%3Cdiv%3E%0A%20%20%20%20%20%20%20%20%20%20%20%20%20%20%20%20%20%20%20%20%20pack%208%3Cbr%3E%20quantity%201%20%3Cbr%3E%20delivery%20time%202min%3Cbr%3Etimes%20from%3A%2013%3A53%3Cbr%3Eto%2017%3A41%0A%20%20%20%20%20%20%20%20%20%20%20%20%20%20%20%20%20%3C/div%3E%60%2C%0A%20%20%20%20%20%20%20%20%20%20%20%20%20%20%20%20%7B%22permanent%22%3A%20true%2C%20%22sticky%22%3A%20true%7D%0A%20%20%20%20%20%20%20%20%20%20%20%20%29%3B%0A%20%20%20%20%20%20%20%20%0A%20%20%20%20%0A%20%20%20%20%20%20%20%20%20%20%20%20var%20marker_d53737fe85b148059c3e81c5b73bd041%20%3D%20L.marker%28%0A%20%20%20%20%20%20%20%20%20%20%20%20%20%20%20%20%5B46.20900226913922%2C%2011.114301681518555%5D%2C%0A%20%20%20%20%20%20%20%20%20%20%20%20%20%20%20%20%7B%7D%0A%20%20%20%20%20%20%20%20%20%20%20%20%29.addTo%28map_e1295dc438734370afab2785373160f8%29%3B%0A%20%20%20%20%20%20%20%20%0A%20%20%20%20%0A%20%20%20%20%20%20%20%20%20%20%20%20var%20icon_5667be56af344f77be557263ffa3256e%20%3D%20L.AwesomeMarkers.icon%28%0A%20%20%20%20%20%20%20%20%20%20%20%20%20%20%20%20%7B%22extraClasses%22%3A%20%22fa-rotate-0%22%2C%20%22icon%22%3A%20%22archive%22%2C%20%22iconColor%22%3A%20%22white%22%2C%20%22markerColor%22%3A%20%22green%22%2C%20%22prefix%22%3A%20%22fa%22%7D%0A%20%20%20%20%20%20%20%20%20%20%20%20%29%3B%0A%20%20%20%20%20%20%20%20%20%20%20%20marker_d53737fe85b148059c3e81c5b73bd041.setIcon%28icon_5667be56af344f77be557263ffa3256e%29%3B%0A%20%20%20%20%20%20%20%20%0A%20%20%20%20%0A%20%20%20%20%20%20%20%20%20%20%20%20marker_d53737fe85b148059c3e81c5b73bd041.bindTooltip%28%0A%20%20%20%20%20%20%20%20%20%20%20%20%20%20%20%20%60%3Cdiv%3E%0A%20%20%20%20%20%20%20%20%20%20%20%20%20%20%20%20%20%20%20%20%20pack%209%3Cbr%3E%20quantity%201%20%3Cbr%3E%20delivery%20time%203min%3Cbr%3Etimes%20from%3A%2013%3A34%3Cbr%3Eto%2017%3A22%0A%20%20%20%20%20%20%20%20%20%20%20%20%20%20%20%20%20%3C/div%3E%60%2C%0A%20%20%20%20%20%20%20%20%20%20%20%20%20%20%20%20%7B%22permanent%22%3A%20true%2C%20%22sticky%22%3A%20true%7D%0A%20%20%20%20%20%20%20%20%20%20%20%20%29%3B%0A%20%20%20%20%20%20%20%20%0A%3C/script%3E onload=\"this.contentDocument.open();this.contentDocument.write(    decodeURIComponent(this.getAttribute('data-html')));this.contentDocument.close();\" allowfullscreen webkitallowfullscreen mozallowfullscreen></iframe></div></div>"
      ],
      "text/plain": [
       "<folium.folium.Map at 0x7fe07d6a74c0>"
      ]
     },
     "execution_count": 43,
     "metadata": {},
     "output_type": "execute_result"
    }
   ],
   "source": [
    "import openrouteservice as ors\n",
    "import requests\n",
    "import folium\n",
    "import json\n",
    "import random\n",
    "from pprint import pprint\n",
    "from datetime import datetime\n",
    "from datetime import date\n",
    "import time\n",
    "\n",
    "# DATI posizione consegne\n",
    "pointsA = json.load(open('../data/mezzolombardo.geojson'))['features'] #4 points\n",
    "pointsB = json.load(open('../data/mezzocorona.geojson'))['features'] #6 points\n",
    "\n",
    "vroom_url = 'http://vroom:3000/optimization/'\n",
    "\n",
    "#centro mappa\n",
    "center = [46.2155, 11.1065]\n",
    "zoom = 15\n",
    "\n",
    "# POSIZIONI PARTENZA DEI VEICOLI\n",
    "point_start = [46.220, 11.106]\n",
    "\n",
    "# POSIZIONE ARRIVO DEI VEICOLI(uguale a partenza)\n",
    "point_end = [point_start[0], point_start[1]]\n",
    "\n",
    "ccA = [p['geometry']['coordinates'] for p in pointsA]\n",
    "ccB = [p['geometry']['coordinates'] for p in pointsB]\n",
    "\n",
    "#ELENCO consegne 4 Mezzolombardo e 6 Mezzocorona TOTALE 10 con quantita'\n",
    "job_locs = ccA + ccB\n",
    "\n",
    "#colori veicoli/percorsi by vid\n",
    "Vcolors = {\n",
    "    '1': 'blue',\n",
    "    '2': 'red',\n",
    "    '3': 'purple'\n",
    "}\n",
    "\n",
    "vehicleProfile = 'driving-car'\n",
    "\n",
    "Map = folium.Map(location=center, tiles='OpenStreetMap', zoom_start=zoom)\n",
    "\n",
    "#convert coordinates (lat,lon) to (lon,lat)\n",
    "def revcc(cc):\n",
    "    return list(reversed(cc))\n",
    "\n",
    "def toKm(m):\n",
    "    return str(round(m/1000))+'km'\n",
    "\n",
    "def toMin(sec):\n",
    "    return str(round(sec/60))+'min'\n",
    "\n",
    "def sec2hour(sec):\n",
    "    return str(datetime.fromtimestamp(sec).strftime(\"%H:%M\"))\n",
    "\n",
    "def hour2sec(hour = '00:00'):\n",
    "    now = datetime.now()\n",
    "    s = now.strftime(\"%d/%m/%Y \") + hour\n",
    "    return int(time.mktime(datetime.strptime(s, \"%d/%m/%Y %H:%M\").timetuple()))\n",
    "\n",
    "def vehicle2Map(vid, cap, loc, timeWindow=[]):\n",
    "    if timeWindow is None: \n",
    "        timeWindow = []\n",
    "    \n",
    "    mText = \"vehicle \"+str(vid)+\"<br> capacity %s\" % cap\n",
    "    \n",
    "    if len(timeWindow) > 0:\n",
    "        mText += \"<br>times from: \"+sec2hour(timeWindow[0])+\"<br>to \"+sec2hour(timeWindow[1])\n",
    "    \n",
    "    mColor = Vcolors[str(vid)]\n",
    "    mark = folium.Marker(loc, tooltip=folium.Tooltip(mText,permanent=True), icon=folium.Icon(color=mColor, icon='truck', prefix='fa'))\n",
    "    mark.add_to(Map)\n",
    "\n",
    "vehicles = []\n",
    "\n",
    "### VEICOLO 1\n",
    "vid = 1\n",
    "capacity = 1\n",
    "\n",
    "timeWindow = [       #orario lavoro del veicolo 1\n",
    "        hour2sec('14:00'),\n",
    "        hour2sec('19:00')\n",
    "    ]\n",
    "\n",
    "loc = [point_start[0] + 0.004, point_start[1] + 0.004]\n",
    "vehicle = {\n",
    "    'id': vid,\n",
    "    'capacity': [capacity],    # Limite di capacita' del Veicolo    \n",
    "    'profile': vehicleProfile,\n",
    "    'start': revcc(loc),       # posizione di partenza veicoli\n",
    "    'end': revcc(loc),\n",
    "    'time_window': timeWindow,\n",
    "#TODO\n",
    "#     'breaks': [              #orari pause sanitizzazione del veicolo\n",
    "#         {\n",
    "#           \"id\": 1,\n",
    "#           #\"description\": \"pausa sanitizzazione\", #descrizione pausa\n",
    "#           \"service\": 300,   #durata pausa 5 minuti\n",
    "#           \"time_windows\": [ #an array of time_window objects describing valid slots for break start\n",
    "#             [\n",
    "#               1612881173, #dalle 15:32\n",
    "#               1612882173  #alle 15:49\n",
    "#             ],\n",
    "#             [\n",
    "#               1612884173, #dalle 16:22\n",
    "#               1612885173  #alle 16:39\n",
    "#             ]\n",
    "#           ]\n",
    "#         }\n",
    "#       ]\n",
    "}\n",
    "vehicles.append(vehicle)\n",
    "vehicle2Map(vid, capacity, loc, timeWindow)\n",
    "\n",
    "### VEICOLO 2\n",
    "vid = 2\n",
    "capacity = 1\n",
    "\n",
    "timeWindow = [                  # orario lavoro del veicolo 2\n",
    "        hour2sec('08:00'),\n",
    "        hour2sec('13:00')\n",
    "    ]\n",
    "\n",
    "loc = [point_start[0] + 0.003, point_start[1] + 0.003]\n",
    "vehicle = {\n",
    "    'id': vid,\n",
    "    'capacity': [capacity],     # Limite di capacita' del Veicolo    \n",
    "    'profile': vehicleProfile,\n",
    "    'start': revcc(loc),        # posizione di partenza veicoli\n",
    "    'end': revcc(loc),\n",
    "    'time_window': timeWindow\n",
    "}\n",
    "vehicles.append(vehicle)\n",
    "vehicle2Map(vid, capacity, loc, timeWindow)\n",
    "\n",
    "\n",
    "#DEFINTION OF JOBS\n",
    "\n",
    "jobs = []\n",
    "for idx, cc in enumerate(job_locs):\n",
    "    loc = revcc(cc)\n",
    "    \n",
    "    #quantita da consegnare\n",
    "    delivery = 1 #random.randrange(1, 3)\n",
    "    \n",
    "    #tempo di della singola consegna(in secondi)\n",
    "    service = random.randrange(60, 300) #da 2 a 5 minuti\n",
    "    \n",
    "    timeWindow = [         \n",
    "            1612880173,  #dalle 15:16\n",
    "            1612980273   #alle 19:04\n",
    "            #1612883173, #dalle 16:06\n",
    "            #1612883973  #alle 16:19\n",
    "        ]\n",
    "    \n",
    "    # shifting casuale del tempo per ogni job\n",
    "    s = random.randrange(-3000,3000)\n",
    "    timeWindow = [timeWindow[0]+s, timeWindow[1]+s]\n",
    "    \n",
    "    job = {\n",
    "        'id': idx,\n",
    "        'location': cc,\n",
    "        'delivery': [delivery], # Quantita' da consegnare\n",
    "        #'service': service,      # tempo di consegna\n",
    "        #'time_windows': [\n",
    "        #    timeWindow\n",
    "        #]\n",
    "    }\n",
    "    jobs.append(job)\n",
    "    \n",
    "    mText = \"pack \"+str(idx)+\"<br> quantity %s <br> delivery time %s\" % (delivery, toMin(service))\n",
    "    \n",
    "    if len(timeWindow) > 0:\n",
    "        mText += \"<br>times from: \"+sec2hour(timeWindow[0])+\"<br>to \"+sec2hour(timeWindow[1])\n",
    "    \n",
    "    mark = folium.Marker(loc, tooltip=folium.Tooltip(mText, permanent=True), icon=folium.Icon(icon='archive', prefix='fa', color='green'))\n",
    "    mark.add_to(Map)\n",
    "\n",
    "Map"
   ]
  },
  {
   "cell_type": "code",
   "execution_count": 37,
   "metadata": {},
   "outputs": [
    {
     "data": {
      "text/plain": [
       "'14:16'"
      ]
     },
     "execution_count": 37,
     "metadata": {},
     "output_type": "execute_result"
    }
   ],
   "source": [
    "sec2hour(1616076960)"
   ]
  },
  {
   "cell_type": "code",
   "execution_count": 38,
   "metadata": {},
   "outputs": [
    {
     "data": {
      "text/plain": [
       "1616076960"
      ]
     },
     "execution_count": 38,
     "metadata": {},
     "output_type": "execute_result"
    }
   ],
   "source": [
    "hour2sec('14:16')"
   ]
  },
  {
   "cell_type": "code",
   "execution_count": 44,
   "metadata": {
    "scrolled": true
   },
   "outputs": [
    {
     "data": {
      "text/plain": [
       "{'vehicles': [{'id': 1,\n",
       "   'capacity': [1],\n",
       "   'profile': 'driving-car',\n",
       "   'start': [11.11, 46.224],\n",
       "   'end': [11.11, 46.224],\n",
       "   'time_window': [1616076000, 1616094000]},\n",
       "  {'id': 2,\n",
       "   'capacity': [1],\n",
       "   'profile': 'driving-car',\n",
       "   'start': [11.109, 46.223],\n",
       "   'end': [11.109, 46.223],\n",
       "   'time_window': [1616054400, 1616072400]}],\n",
       " 'jobs': [{'id': 0,\n",
       "   'location': [11.092028617858887, 46.2183172744161],\n",
       "   'delivery': [1]},\n",
       "  {'id': 1,\n",
       "   'location': [11.08793020248413, 46.2161294935962],\n",
       "   'delivery': [1]},\n",
       "  {'id': 2,\n",
       "   'location': [11.091685295104979, 46.21057627744751],\n",
       "   'delivery': [1]},\n",
       "  {'id': 3,\n",
       "   'location': [11.096470355987549, 46.21344204466888],\n",
       "   'delivery': [1]},\n",
       "  {'id': 4,\n",
       "   'location': [11.114227983093262, 46.21858452155989],\n",
       "   'delivery': [1]},\n",
       "  {'id': 5,\n",
       "   'location': [11.118206977844238, 46.214911991592125],\n",
       "   'delivery': [1]},\n",
       "  {'id': 6,\n",
       "   'location': [11.123356819152832, 46.21419929496722],\n",
       "   'delivery': [1]},\n",
       "  {'id': 7,\n",
       "   'location': [11.127262115478516, 46.211972058400264],\n",
       "   'delivery': [1]},\n",
       "  {'id': 8,\n",
       "   'location': [11.122541427612305, 46.20986352455638],\n",
       "   'delivery': [1]},\n",
       "  {'id': 9,\n",
       "   'location': [11.114301681518555, 46.20900226913922],\n",
       "   'delivery': [1]}],\n",
       " 'geometry': True}"
      ]
     },
     "execution_count": 44,
     "metadata": {},
     "output_type": "execute_result"
    }
   ],
   "source": [
    "request = {\n",
    "    'vehicles': vehicles,\n",
    "    'jobs': jobs,\n",
    "    'geometry': True\n",
    "}\n",
    "\n",
    "request"
   ]
  },
  {
   "cell_type": "code",
   "execution_count": 45,
   "metadata": {},
   "outputs": [
    {
     "data": {
      "text/plain": [
       "{'code': 3, 'error': 'Failed to connect to ors:8080'}"
      ]
     },
     "execution_count": 45,
     "metadata": {},
     "output_type": "execute_result"
    }
   ],
   "source": [
    "resp = requests.post(vroom_url, json = request)\n",
    "\n",
    "solution = resp.json()\n",
    "\n",
    "#solution['summary']\n",
    "solution"
   ]
  },
  {
   "cell_type": "code",
   "execution_count": 6,
   "metadata": {
    "scrolled": false
   },
   "outputs": [
    {
     "ename": "KeyError",
     "evalue": "'routes'",
     "output_type": "error",
     "traceback": [
      "\u001b[0;31m---------------------------------------------------------------------------\u001b[0m",
      "\u001b[0;31mKeyError\u001b[0m                                  Traceback (most recent call last)",
      "\u001b[0;32m<ipython-input-6-548558cdcf89>\u001b[0m in \u001b[0;36m<module>\u001b[0;34m\u001b[0m\n\u001b[0;32m----> 1\u001b[0;31m \u001b[0;32mif\u001b[0m \u001b[0mlen\u001b[0m\u001b[0;34m(\u001b[0m\u001b[0msolution\u001b[0m\u001b[0;34m[\u001b[0m\u001b[0;34m'routes'\u001b[0m\u001b[0;34m]\u001b[0m\u001b[0;34m)\u001b[0m \u001b[0;34m>\u001b[0m \u001b[0;36m0\u001b[0m\u001b[0;34m:\u001b[0m\u001b[0;34m\u001b[0m\u001b[0;34m\u001b[0m\u001b[0m\n\u001b[0m\u001b[1;32m      2\u001b[0m     \u001b[0;32mfor\u001b[0m \u001b[0mroute\u001b[0m \u001b[0;32min\u001b[0m \u001b[0msolution\u001b[0m\u001b[0;34m[\u001b[0m\u001b[0;34m'routes'\u001b[0m\u001b[0;34m]\u001b[0m\u001b[0;34m:\u001b[0m\u001b[0;34m\u001b[0m\u001b[0;34m\u001b[0m\u001b[0m\n\u001b[1;32m      3\u001b[0m \u001b[0;34m\u001b[0m\u001b[0m\n\u001b[1;32m      4\u001b[0m         \u001b[0mrtext\u001b[0m \u001b[0;34m=\u001b[0m \u001b[0;34m'distance: '\u001b[0m\u001b[0;34m+\u001b[0m\u001b[0mtoKm\u001b[0m\u001b[0;34m(\u001b[0m\u001b[0mroute\u001b[0m\u001b[0;34m[\u001b[0m\u001b[0;34m'distance'\u001b[0m\u001b[0;34m]\u001b[0m\u001b[0;34m)\u001b[0m\u001b[0;34m+\u001b[0m\u001b[0;34m' delivered quantity: '\u001b[0m\u001b[0;34m+\u001b[0m\u001b[0mstr\u001b[0m\u001b[0;34m(\u001b[0m\u001b[0mroute\u001b[0m\u001b[0;34m[\u001b[0m\u001b[0;34m'delivery'\u001b[0m\u001b[0;34m]\u001b[0m\u001b[0;34m[\u001b[0m\u001b[0;36m0\u001b[0m\u001b[0;34m]\u001b[0m\u001b[0;34m)\u001b[0m\u001b[0;34m+\u001b[0m\u001b[0;34m', time: '\u001b[0m\u001b[0;34m+\u001b[0m\u001b[0mtoMin\u001b[0m\u001b[0;34m(\u001b[0m\u001b[0mroute\u001b[0m\u001b[0;34m[\u001b[0m\u001b[0;34m'duration'\u001b[0m\u001b[0;34m]\u001b[0m\u001b[0;34m+\u001b[0m\u001b[0mroute\u001b[0m\u001b[0;34m[\u001b[0m\u001b[0;34m'service'\u001b[0m\u001b[0;34m]\u001b[0m\u001b[0;34m)\u001b[0m\u001b[0;34m\u001b[0m\u001b[0;34m\u001b[0m\u001b[0m\n\u001b[1;32m      5\u001b[0m         \u001b[0mrcolor\u001b[0m \u001b[0;34m=\u001b[0m \u001b[0mVcolors\u001b[0m\u001b[0;34m[\u001b[0m\u001b[0mstr\u001b[0m\u001b[0;34m(\u001b[0m\u001b[0mroute\u001b[0m\u001b[0;34m[\u001b[0m\u001b[0;34m'vehicle'\u001b[0m\u001b[0;34m]\u001b[0m\u001b[0;34m)\u001b[0m\u001b[0;34m]\u001b[0m\u001b[0;34m\u001b[0m\u001b[0;34m\u001b[0m\u001b[0m\n",
      "\u001b[0;31mKeyError\u001b[0m: 'routes'"
     ]
    }
   ],
   "source": [
    "if len(solution['routes']) > 0:\n",
    "    for route in solution['routes']:\n",
    "\n",
    "        rtext = 'distance: '+toKm(route['distance'])+' delivered quantity: '+str(route['delivery'][0])+', time: '+toMin(route['duration']+route['service'])\n",
    "        rcolor = Vcolors[str(route['vehicle'])]\n",
    "        print('Vehicle'+str(route['vehicle']), rcolor, rtext)\n",
    "\n",
    "        folium.PolyLine(\n",
    "            locations = [revcc(coords) for coords in ors.convert.decode_polyline(route['geometry'])['coordinates']],\n",
    "            color = rcolor,\n",
    "            opacity = 0.8,\n",
    "            weight = 5\n",
    "        ).add_to(Map)\n",
    "\n",
    "    print(\"\\nTotal distance: \"+toKm(solution['summary']['distance']), 'Not Delivered: '+str(len(solution['unassigned'])))\n",
    "\n",
    "Map"
   ]
  },
  {
   "cell_type": "code",
   "execution_count": 5,
   "metadata": {
    "scrolled": false
   },
   "outputs": [
    {
     "data": {
      "text/plain": [
       "{'code': 0,\n",
       " 'summary': {'cost': 664,\n",
       "  'unassigned': 8,\n",
       "  'delivery': [2],\n",
       "  'amount': [2],\n",
       "  'pickup': [0],\n",
       "  'service': 300,\n",
       "  'duration': 664,\n",
       "  'waiting_time': 0,\n",
       "  'priority': 0,\n",
       "  'distance': 6311,\n",
       "  'computing_times': {'loading': 351, 'solving': 1, 'routing': 279}},\n",
       " 'unassigned': [{'id': 9, 'location': [11.114301681518556, 46.20900226913922]},\n",
       "  {'id': 8, 'location': [11.122541427612305, 46.20986352455638]},\n",
       "  {'id': 7, 'location': [11.127262115478516, 46.211972058400264]},\n",
       "  {'id': 6, 'location': [11.123356819152832, 46.21419929496722]},\n",
       "  {'id': 1, 'location': [11.08793020248413, 46.2161294935962]},\n",
       "  {'id': 2, 'location': [11.09168529510498, 46.21057627744751]},\n",
       "  {'id': 3, 'location': [11.096470355987549, 46.21344204466888]},\n",
       "  {'id': 4, 'location': [11.114227983093262, 46.21858452155989]}],\n",
       " 'routes': [{'vehicle': 1,\n",
       "   'cost': 340,\n",
       "   'delivery': [1],\n",
       "   'amount': [1],\n",
       "   'pickup': [0],\n",
       "   'service': 300,\n",
       "   'duration': 340,\n",
       "   'waiting_time': 0,\n",
       "   'priority': 0,\n",
       "   'distance': 3516,\n",
       "   'steps': [{'type': 'start',\n",
       "     'location': [11.11, 46.224],\n",
       "     'load': [1],\n",
       "     'arrival': 1612881003,\n",
       "     'duration': 0,\n",
       "     'distance': 0},\n",
       "    {'type': 'break',\n",
       "     'description': 'pausa sanitizzazione',\n",
       "     'id': 1,\n",
       "     'service': 300,\n",
       "     'waiting_time': 0,\n",
       "     'load': [1],\n",
       "     'arrival': 1612881173,\n",
       "     'duration': 170,\n",
       "     'distance': 1758},\n",
       "    {'type': 'job',\n",
       "     'location': [11.118206977844238, 46.214911991592125],\n",
       "     'id': 5,\n",
       "     'service': 0,\n",
       "     'waiting_time': 0,\n",
       "     'job': 5,\n",
       "     'load': [0],\n",
       "     'arrival': 1612881473,\n",
       "     'duration': 170,\n",
       "     'distance': 1758},\n",
       "    {'type': 'end',\n",
       "     'location': [11.11, 46.224],\n",
       "     'load': [0],\n",
       "     'arrival': 1612881643,\n",
       "     'duration': 340,\n",
       "     'distance': 3516}],\n",
       "   'geometry': 'wwbyGeqwbA`FrIxBmCfC{CnAmATOl@N~CsFfAmBtCcFHWBIBIJqAHqAA{@AwA@cAPwCNqBVmBRuANs@Jk@p@uCr@gCn@eB~@kBd@}@Rw@BKNkDDYJk@Ju@Do@@W?O?M?MIeCGgAAk@Ca@?GA]AcA@bA@\\\\?FB`@@j@FfAHdC?L?L?NAVEn@Kt@Kj@EXOjDCJSv@e@|@_AjBo@dBs@fCq@tCKj@Or@StAWlBOpBQvCAbA@vA@z@IpAKpACHCHIVuCbFgAlB_DrFm@OUNoAlAgCzCyBlCaFsI'},\n",
       "  {'vehicle': 2,\n",
       "   'cost': 324,\n",
       "   'delivery': [1],\n",
       "   'amount': [1],\n",
       "   'pickup': [0],\n",
       "   'service': 0,\n",
       "   'duration': 324,\n",
       "   'waiting_time': 0,\n",
       "   'priority': 0,\n",
       "   'distance': 2795,\n",
       "   'steps': [{'type': 'start',\n",
       "     'location': [11.109, 46.223],\n",
       "     'load': [1],\n",
       "     'arrival': 1612880173,\n",
       "     'duration': 0,\n",
       "     'distance': 0},\n",
       "    {'type': 'job',\n",
       "     'location': [11.092028617858888, 46.2183172744161],\n",
       "     'id': 0,\n",
       "     'service': 0,\n",
       "     'waiting_time': 0,\n",
       "     'job': 0,\n",
       "     'load': [0],\n",
       "     'arrival': 1612880335,\n",
       "     'duration': 162,\n",
       "     'distance': 1398},\n",
       "    {'type': 'end',\n",
       "     'location': [11.109, 46.223],\n",
       "     'load': [0],\n",
       "     'arrival': 1612880497,\n",
       "     'duration': 324,\n",
       "     'distance': 2795}],\n",
       "   'geometry': 'oibyGa`xbAGN?bCvDbHk@hAOb@@x@JVjBlEDJBFhBlExBjFHRf@lAjAhCPb@@DBDTl@Nn@Hp@Hf@Aj@A|@An@?d@Av@EtE?R?^AdABz@Hn@BPXnAR|@c@VEB_@V{@A}@FWJ}@S{@Iw@Sv@Rz@H|@RVK|@Gz@@^WDCb@WS}@YoACQIo@C{@@eA?_@?SDuE@w@?e@@o@@}@@k@Ig@Iq@Oo@Um@CEAEQc@kAiCg@mAISyBkFiBmECGEKkBmEKWAy@Nc@j@iAwDcH?cCFO'}]}"
      ]
     },
     "execution_count": 5,
     "metadata": {},
     "output_type": "execute_result"
    }
   ],
   "source": [
    "solution"
   ]
  },
  {
   "cell_type": "code",
   "execution_count": null,
   "metadata": {},
   "outputs": [],
   "source": []
  }
 ],
 "metadata": {
  "kernelspec": {
   "display_name": "Python 3",
   "language": "python",
   "name": "python3"
  },
  "language_info": {
   "codemirror_mode": {
    "name": "ipython",
    "version": 3
   },
   "file_extension": ".py",
   "mimetype": "text/x-python",
   "name": "python",
   "nbconvert_exporter": "python",
   "pygments_lexer": "ipython3",
   "version": "3.8.6"
  }
 },
 "nbformat": 4,
 "nbformat_minor": 2
}
