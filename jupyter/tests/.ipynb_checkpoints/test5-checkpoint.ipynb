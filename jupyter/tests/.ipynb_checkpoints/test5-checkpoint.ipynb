{
 "cells": [
  {
   "cell_type": "markdown",
   "metadata": {},
   "source": [
    "# VROOM testing without ORS\n",
    "updated with vroom 1.8.0 vroom-express 0.7, supporting Shipments\n",
    "\n",
    "docs:  https://github.com/VROOM-Project/vroom/blob/v1.8.0/docs/API.md"
   ]
  },
  {
   "cell_type": "code",
   "execution_count": 3,
   "metadata": {
    "scrolled": false
   },
   "outputs": [
    {
     "data": {
      "text/html": [
       "<div style=\"width:100%;\"><div style=\"position:relative;width:100%;height:0;padding-bottom:60%;\"><span style=\"color:#565656\">Make this Notebook Trusted to load map: File -> Trust Notebook</span><iframe src=\"about:blank\" style=\"position:absolute;width:100%;height:100%;left:0;top:0;border:none !important;\" data-html=%3C%21DOCTYPE%20html%3E%0A%3Chead%3E%20%20%20%20%0A%20%20%20%20%3Cmeta%20http-equiv%3D%22content-type%22%20content%3D%22text/html%3B%20charset%3DUTF-8%22%20/%3E%0A%20%20%20%20%0A%20%20%20%20%20%20%20%20%3Cscript%3E%0A%20%20%20%20%20%20%20%20%20%20%20%20L_NO_TOUCH%20%3D%20false%3B%0A%20%20%20%20%20%20%20%20%20%20%20%20L_DISABLE_3D%20%3D%20false%3B%0A%20%20%20%20%20%20%20%20%3C/script%3E%0A%20%20%20%20%0A%20%20%20%20%3Cstyle%3Ehtml%2C%20body%20%7Bwidth%3A%20100%25%3Bheight%3A%20100%25%3Bmargin%3A%200%3Bpadding%3A%200%3B%7D%3C/style%3E%0A%20%20%20%20%3Cstyle%3E%23map%20%7Bposition%3Aabsolute%3Btop%3A0%3Bbottom%3A0%3Bright%3A0%3Bleft%3A0%3B%7D%3C/style%3E%0A%20%20%20%20%3Cscript%20src%3D%22https%3A//cdn.jsdelivr.net/npm/leaflet%401.6.0/dist/leaflet.js%22%3E%3C/script%3E%0A%20%20%20%20%3Cscript%20src%3D%22https%3A//code.jquery.com/jquery-1.12.4.min.js%22%3E%3C/script%3E%0A%20%20%20%20%3Cscript%20src%3D%22https%3A//maxcdn.bootstrapcdn.com/bootstrap/3.2.0/js/bootstrap.min.js%22%3E%3C/script%3E%0A%20%20%20%20%3Cscript%20src%3D%22https%3A//cdnjs.cloudflare.com/ajax/libs/Leaflet.awesome-markers/2.0.2/leaflet.awesome-markers.js%22%3E%3C/script%3E%0A%20%20%20%20%3Clink%20rel%3D%22stylesheet%22%20href%3D%22https%3A//cdn.jsdelivr.net/npm/leaflet%401.6.0/dist/leaflet.css%22/%3E%0A%20%20%20%20%3Clink%20rel%3D%22stylesheet%22%20href%3D%22https%3A//maxcdn.bootstrapcdn.com/bootstrap/3.2.0/css/bootstrap.min.css%22/%3E%0A%20%20%20%20%3Clink%20rel%3D%22stylesheet%22%20href%3D%22https%3A//maxcdn.bootstrapcdn.com/bootstrap/3.2.0/css/bootstrap-theme.min.css%22/%3E%0A%20%20%20%20%3Clink%20rel%3D%22stylesheet%22%20href%3D%22https%3A//maxcdn.bootstrapcdn.com/font-awesome/4.6.3/css/font-awesome.min.css%22/%3E%0A%20%20%20%20%3Clink%20rel%3D%22stylesheet%22%20href%3D%22https%3A//cdnjs.cloudflare.com/ajax/libs/Leaflet.awesome-markers/2.0.2/leaflet.awesome-markers.css%22/%3E%0A%20%20%20%20%3Clink%20rel%3D%22stylesheet%22%20href%3D%22https%3A//cdn.jsdelivr.net/gh/python-visualization/folium/folium/templates/leaflet.awesome.rotate.min.css%22/%3E%0A%20%20%20%20%0A%20%20%20%20%20%20%20%20%20%20%20%20%3Cmeta%20name%3D%22viewport%22%20content%3D%22width%3Ddevice-width%2C%0A%20%20%20%20%20%20%20%20%20%20%20%20%20%20%20%20initial-scale%3D1.0%2C%20maximum-scale%3D1.0%2C%20user-scalable%3Dno%22%20/%3E%0A%20%20%20%20%20%20%20%20%20%20%20%20%3Cstyle%3E%0A%20%20%20%20%20%20%20%20%20%20%20%20%20%20%20%20%23map_87dd8b25756e43a9aae61bbfcf84f1b2%20%7B%0A%20%20%20%20%20%20%20%20%20%20%20%20%20%20%20%20%20%20%20%20position%3A%20relative%3B%0A%20%20%20%20%20%20%20%20%20%20%20%20%20%20%20%20%20%20%20%20width%3A%20100.0%25%3B%0A%20%20%20%20%20%20%20%20%20%20%20%20%20%20%20%20%20%20%20%20height%3A%20100.0%25%3B%0A%20%20%20%20%20%20%20%20%20%20%20%20%20%20%20%20%20%20%20%20left%3A%200.0%25%3B%0A%20%20%20%20%20%20%20%20%20%20%20%20%20%20%20%20%20%20%20%20top%3A%200.0%25%3B%0A%20%20%20%20%20%20%20%20%20%20%20%20%20%20%20%20%7D%0A%20%20%20%20%20%20%20%20%20%20%20%20%3C/style%3E%0A%20%20%20%20%20%20%20%20%0A%3C/head%3E%0A%3Cbody%3E%20%20%20%20%0A%20%20%20%20%0A%20%20%20%20%20%20%20%20%20%20%20%20%3Cdiv%20class%3D%22folium-map%22%20id%3D%22map_87dd8b25756e43a9aae61bbfcf84f1b2%22%20%3E%3C/div%3E%0A%20%20%20%20%20%20%20%20%0A%3C/body%3E%0A%3Cscript%3E%20%20%20%20%0A%20%20%20%20%0A%20%20%20%20%20%20%20%20%20%20%20%20var%20map_87dd8b25756e43a9aae61bbfcf84f1b2%20%3D%20L.map%28%0A%20%20%20%20%20%20%20%20%20%20%20%20%20%20%20%20%22map_87dd8b25756e43a9aae61bbfcf84f1b2%22%2C%0A%20%20%20%20%20%20%20%20%20%20%20%20%20%20%20%20%7B%0A%20%20%20%20%20%20%20%20%20%20%20%20%20%20%20%20%20%20%20%20center%3A%20%5B46.22007%2C%2011.1026%5D%2C%0A%20%20%20%20%20%20%20%20%20%20%20%20%20%20%20%20%20%20%20%20crs%3A%20L.CRS.EPSG3857%2C%0A%20%20%20%20%20%20%20%20%20%20%20%20%20%20%20%20%20%20%20%20zoom%3A%2015%2C%0A%20%20%20%20%20%20%20%20%20%20%20%20%20%20%20%20%20%20%20%20zoomControl%3A%20true%2C%0A%20%20%20%20%20%20%20%20%20%20%20%20%20%20%20%20%20%20%20%20preferCanvas%3A%20false%2C%0A%20%20%20%20%20%20%20%20%20%20%20%20%20%20%20%20%7D%0A%20%20%20%20%20%20%20%20%20%20%20%20%29%3B%0A%0A%20%20%20%20%20%20%20%20%20%20%20%20%0A%0A%20%20%20%20%20%20%20%20%0A%20%20%20%20%0A%20%20%20%20%20%20%20%20%20%20%20%20var%20tile_layer_734fb428cb954939a1fa5307b2e0f5fe%20%3D%20L.tileLayer%28%0A%20%20%20%20%20%20%20%20%20%20%20%20%20%20%20%20%22https%3A//%7Bs%7D.tile.openstreetmap.org/%7Bz%7D/%7Bx%7D/%7By%7D.png%22%2C%0A%20%20%20%20%20%20%20%20%20%20%20%20%20%20%20%20%7B%22attribution%22%3A%20%22Data%20by%20%5Cu0026copy%3B%20%5Cu003ca%20href%3D%5C%22http%3A//openstreetmap.org%5C%22%5Cu003eOpenStreetMap%5Cu003c/a%5Cu003e%2C%20under%20%5Cu003ca%20href%3D%5C%22http%3A//www.openstreetmap.org/copyright%5C%22%5Cu003eODbL%5Cu003c/a%5Cu003e.%22%2C%20%22detectRetina%22%3A%20false%2C%20%22maxNativeZoom%22%3A%2018%2C%20%22maxZoom%22%3A%2018%2C%20%22minZoom%22%3A%200%2C%20%22noWrap%22%3A%20false%2C%20%22opacity%22%3A%201%2C%20%22subdomains%22%3A%20%22abc%22%2C%20%22tms%22%3A%20false%7D%0A%20%20%20%20%20%20%20%20%20%20%20%20%29.addTo%28map_87dd8b25756e43a9aae61bbfcf84f1b2%29%3B%0A%20%20%20%20%20%20%20%20%0A%20%20%20%20%0A%20%20%20%20%20%20%20%20%20%20%20%20var%20marker_6bc7ec332742473e8a617c3af940fe2e%20%3D%20L.marker%28%0A%20%20%20%20%20%20%20%20%20%20%20%20%20%20%20%20%5B46.21997%2C%2011.10274%5D%2C%0A%20%20%20%20%20%20%20%20%20%20%20%20%20%20%20%20%7B%7D%0A%20%20%20%20%20%20%20%20%20%20%20%20%29.addTo%28map_87dd8b25756e43a9aae61bbfcf84f1b2%29%3B%0A%20%20%20%20%20%20%20%20%0A%20%20%20%20%0A%20%20%20%20%20%20%20%20%20%20%20%20var%20icon_2d53f34edde042709a3edf843780369b%20%3D%20L.AwesomeMarkers.icon%28%0A%20%20%20%20%20%20%20%20%20%20%20%20%20%20%20%20%7B%22extraClasses%22%3A%20%22fa-rotate-0%22%2C%20%22icon%22%3A%20%22truck%22%2C%20%22iconColor%22%3A%20%22white%22%2C%20%22markerColor%22%3A%20%22blue%22%2C%20%22prefix%22%3A%20%22fa%22%7D%0A%20%20%20%20%20%20%20%20%20%20%20%20%29%3B%0A%20%20%20%20%20%20%20%20%20%20%20%20marker_6bc7ec332742473e8a617c3af940fe2e.setIcon%28icon_2d53f34edde042709a3edf843780369b%29%3B%0A%20%20%20%20%20%20%20%20%0A%20%20%20%20%0A%20%20%20%20%20%20%20%20%20%20%20%20marker_6bc7ec332742473e8a617c3af940fe2e.bindTooltip%28%0A%20%20%20%20%20%20%20%20%20%20%20%20%20%20%20%20%60%3Cdiv%3E%0A%20%20%20%20%20%20%20%20%20%20%20%20%20%20%20%20%20%20%20%20%20vehicle%201%20%3Cbr%3E%20capacity%204%0A%20%20%20%20%20%20%20%20%20%20%20%20%20%20%20%20%20%3C/div%3E%60%2C%0A%20%20%20%20%20%20%20%20%20%20%20%20%20%20%20%20%7B%22permanent%22%3A%20true%2C%20%22sticky%22%3A%20true%7D%0A%20%20%20%20%20%20%20%20%20%20%20%20%29%3B%0A%20%20%20%20%20%20%20%20%0A%20%20%20%20%0A%20%20%20%20%20%20%20%20%20%20%20%20var%20marker_ec657c6b694f4636857a524e189a87c3%20%3D%20L.marker%28%0A%20%20%20%20%20%20%20%20%20%20%20%20%20%20%20%20%5B46.21897%2C%2011.10374%5D%2C%0A%20%20%20%20%20%20%20%20%20%20%20%20%20%20%20%20%7B%7D%0A%20%20%20%20%20%20%20%20%20%20%20%20%29.addTo%28map_87dd8b25756e43a9aae61bbfcf84f1b2%29%3B%0A%20%20%20%20%20%20%20%20%0A%20%20%20%20%0A%20%20%20%20%20%20%20%20%20%20%20%20var%20icon_71873f54d597427a86b27cc32987fd51%20%3D%20L.AwesomeMarkers.icon%28%0A%20%20%20%20%20%20%20%20%20%20%20%20%20%20%20%20%7B%22extraClasses%22%3A%20%22fa-rotate-0%22%2C%20%22icon%22%3A%20%22truck%22%2C%20%22iconColor%22%3A%20%22white%22%2C%20%22markerColor%22%3A%20%22red%22%2C%20%22prefix%22%3A%20%22fa%22%7D%0A%20%20%20%20%20%20%20%20%20%20%20%20%29%3B%0A%20%20%20%20%20%20%20%20%20%20%20%20marker_ec657c6b694f4636857a524e189a87c3.setIcon%28icon_71873f54d597427a86b27cc32987fd51%29%3B%0A%20%20%20%20%20%20%20%20%0A%20%20%20%20%0A%20%20%20%20%20%20%20%20%20%20%20%20marker_ec657c6b694f4636857a524e189a87c3.bindTooltip%28%0A%20%20%20%20%20%20%20%20%20%20%20%20%20%20%20%20%60%3Cdiv%3E%0A%20%20%20%20%20%20%20%20%20%20%20%20%20%20%20%20%20%20%20%20%20vehicle%202%20%3Cbr%3E%20capacity%204%0A%20%20%20%20%20%20%20%20%20%20%20%20%20%20%20%20%20%3C/div%3E%60%2C%0A%20%20%20%20%20%20%20%20%20%20%20%20%20%20%20%20%7B%22permanent%22%3A%20true%2C%20%22sticky%22%3A%20true%7D%0A%20%20%20%20%20%20%20%20%20%20%20%20%29%3B%0A%20%20%20%20%20%20%20%20%0A%20%20%20%20%0A%20%20%20%20%20%20%20%20%20%20%20%20var%20marker_3e71af3e5767409db7658f3c9cf752f6%20%3D%20L.marker%28%0A%20%20%20%20%20%20%20%20%20%20%20%20%20%20%20%20%5B46.21858452155989%2C%2011.114227983093262%5D%2C%0A%20%20%20%20%20%20%20%20%20%20%20%20%20%20%20%20%7B%7D%0A%20%20%20%20%20%20%20%20%20%20%20%20%29.addTo%28map_87dd8b25756e43a9aae61bbfcf84f1b2%29%3B%0A%20%20%20%20%20%20%20%20%0A%20%20%20%20%0A%20%20%20%20%20%20%20%20%20%20%20%20var%20icon_e44e1587ee2c4002adcba3fc87d1344e%20%3D%20L.AwesomeMarkers.icon%28%0A%20%20%20%20%20%20%20%20%20%20%20%20%20%20%20%20%7B%22extraClasses%22%3A%20%22fa-rotate-0%22%2C%20%22icon%22%3A%20%22archive%22%2C%20%22iconColor%22%3A%20%22white%22%2C%20%22markerColor%22%3A%20%22green%22%2C%20%22prefix%22%3A%20%22fa%22%7D%0A%20%20%20%20%20%20%20%20%20%20%20%20%29%3B%0A%20%20%20%20%20%20%20%20%20%20%20%20marker_3e71af3e5767409db7658f3c9cf752f6.setIcon%28icon_e44e1587ee2c4002adcba3fc87d1344e%29%3B%0A%20%20%20%20%20%20%20%20%0A%20%20%20%20%0A%20%20%20%20%20%20%20%20%20%20%20%20marker_3e71af3e5767409db7658f3c9cf752f6.bindTooltip%28%0A%20%20%20%20%20%20%20%20%20%20%20%20%20%20%20%20%60%3Cdiv%3E%0A%20%20%20%20%20%20%20%20%20%20%20%20%20%20%20%20%20%20%20%20%20user%201%3Cbr%3E%0A%20%20%20%20%20%20%20%20%20%20%20%20%20%20%20%20%20%3C/div%3E%60%2C%0A%20%20%20%20%20%20%20%20%20%20%20%20%20%20%20%20%7B%22permanent%22%3A%20true%2C%20%22sticky%22%3A%20true%7D%0A%20%20%20%20%20%20%20%20%20%20%20%20%29%3B%0A%20%20%20%20%20%20%20%20%0A%20%20%20%20%0A%20%20%20%20%20%20%20%20%20%20%20%20var%20marker_a4b04e8638de48a38454c2c41108b4c7%20%3D%20L.marker%28%0A%20%20%20%20%20%20%20%20%20%20%20%20%20%20%20%20%5B46.214911991592125%2C%2011.118206977844238%5D%2C%0A%20%20%20%20%20%20%20%20%20%20%20%20%20%20%20%20%7B%7D%0A%20%20%20%20%20%20%20%20%20%20%20%20%29.addTo%28map_87dd8b25756e43a9aae61bbfcf84f1b2%29%3B%0A%20%20%20%20%20%20%20%20%0A%20%20%20%20%0A%20%20%20%20%20%20%20%20%20%20%20%20var%20icon_1271780fa4c84fe1a4ba60af2d7e08c8%20%3D%20L.AwesomeMarkers.icon%28%0A%20%20%20%20%20%20%20%20%20%20%20%20%20%20%20%20%7B%22extraClasses%22%3A%20%22fa-rotate-0%22%2C%20%22icon%22%3A%20%22archive%22%2C%20%22iconColor%22%3A%20%22white%22%2C%20%22markerColor%22%3A%20%22green%22%2C%20%22prefix%22%3A%20%22fa%22%7D%0A%20%20%20%20%20%20%20%20%20%20%20%20%29%3B%0A%20%20%20%20%20%20%20%20%20%20%20%20marker_a4b04e8638de48a38454c2c41108b4c7.setIcon%28icon_1271780fa4c84fe1a4ba60af2d7e08c8%29%3B%0A%20%20%20%20%20%20%20%20%0A%20%20%20%20%0A%20%20%20%20%20%20%20%20%20%20%20%20marker_a4b04e8638de48a38454c2c41108b4c7.bindTooltip%28%0A%20%20%20%20%20%20%20%20%20%20%20%20%20%20%20%20%60%3Cdiv%3E%0A%20%20%20%20%20%20%20%20%20%20%20%20%20%20%20%20%20%20%20%20%20user%202%3Cbr%3E%0A%20%20%20%20%20%20%20%20%20%20%20%20%20%20%20%20%20%3C/div%3E%60%2C%0A%20%20%20%20%20%20%20%20%20%20%20%20%20%20%20%20%7B%22permanent%22%3A%20true%2C%20%22sticky%22%3A%20true%7D%0A%20%20%20%20%20%20%20%20%20%20%20%20%29%3B%0A%20%20%20%20%20%20%20%20%0A%3C/script%3E onload=\"this.contentDocument.open();this.contentDocument.write(    decodeURIComponent(this.getAttribute('data-html')));this.contentDocument.close();\" allowfullscreen webkitallowfullscreen mozallowfullscreen></iframe></div></div>"
      ],
      "text/plain": [
       "<folium.folium.Map at 0x7f0a1c5d6520>"
      ]
     },
     "execution_count": 3,
     "metadata": {},
     "output_type": "execute_result"
    }
   ],
   "source": [
    "import openrouteservice as ors\n",
    "import requests\n",
    "import folium\n",
    "import json\n",
    "import random\n",
    "from pprint import pprint\n",
    "from datetime import datetime\n",
    "from datetime import date\n",
    "import time\n",
    "\n",
    "vroom_url = 'http://vroom:3000/optimization/'\n",
    "\n",
    "vehicleProfile = \"driving-car\"\n",
    "\n",
    "# DATI posizioni\n",
    "pointsA = json.load(open('../data/mezzolombardo.geojson'))['features'] #4 points\n",
    "pointsB = json.load(open('../data/mezzocorona.geojson'))['features'] #6 points\n",
    "\n",
    "example1 = json.load(open('../data/example_1_mezzocorona.json')) #from vroom shipments example\n",
    "#for v in example1['vehicles']:\n",
    "#    v['profile'] = vehicleProfile,\n",
    "\n",
    "example1['vehicles'] = [ v['profile']=vehicleProfile for v in example1['vehicles'] ]\n",
    "\n",
    "print(example1)\n",
    "\n",
    "\n",
    "center = [46.22007,11.10260]\n",
    "zoom = 15\n",
    "\n",
    "point_start = [46.21579,11.10249] #posizione iniziale veicoli\n",
    "point_end = point_start.copy()\n",
    "\n",
    "Map = folium.Map(location=center, tiles='OpenStreetMap', zoom_start=zoom)\n",
    "\n",
    "def revcc(cc):\n",
    "    return list(reversed(cc))\n",
    "\n",
    "def toKm(m):\n",
    "    return str(round(m/1000))+'km'\n",
    "\n",
    "def toMin(sec):\n",
    "    return str(round(sec/60))+'min'\n",
    "\n",
    "def sec2hour(sec):\n",
    "    return str(datetime.fromtimestamp(sec).strftime(\"%H:%M\"))\n",
    "\n",
    "def hour2sec(hour = '00:00'):\n",
    "    now = datetime.now()\n",
    "    s = now.strftime(\"%d/%m/%Y \") + hour\n",
    "    return int(time.mktime(datetime.strptime(s, \"%d/%m/%Y %H:%M\").timetuple()))\n",
    "\n",
    "def locShift(loc, s):\n",
    "    return [loc[0] + s, loc[1] + s]\n",
    "\n",
    "def vehicle2Map(v):\n",
    "    loc = revcc(v['start'])\n",
    "    cap = str(v['capacity'][0])\n",
    "    idv = str(v['id'])\n",
    "\n",
    "    if hasattr(v,'time_window'):\n",
    "        times = j['time_window']\n",
    "    else:\n",
    "        times = []\n",
    "    \n",
    "    mText = \"vehicle %s <br> capacity %s\" % (idv, cap)\n",
    "    \n",
    "    if len(times) > 0:\n",
    "        mText += \"<br>times from: %s <br> to %s \" % (sec2hour(times[0]), sec2hour(times[1]) )\n",
    "    \n",
    "    mColor = COLORS[idv]\n",
    "    mark = folium.Marker(loc, tooltip=folium.Tooltip(mText,permanent=True), icon=folium.Icon(color=mColor, icon='truck', prefix='fa'))\n",
    "    mark.add_to(Map)\n",
    "\n",
    "def job2Map(j):\n",
    "    loc = j['location']\n",
    "    idj = str(j['id'])\n",
    "    if hasattr(j,'time_window'):\n",
    "        times = j['time_windows'][0]\n",
    "    else:\n",
    "        times = []\n",
    "    \n",
    "    mText = \"user %s<br>\" % (idj)\n",
    "    #+\"quantity %s <br> delivery time %s\" % (delivery, toMin(service))\n",
    "    \n",
    "    if len(times) > 0:\n",
    "            mText += \"from: %s <br> to: %s \" % ( sec2hour(times[0]), sec2hour(times[1]) )\n",
    "\n",
    "    mark = folium.Marker(loc, tooltip=folium.Tooltip(mText, permanent=True), icon=folium.Icon(icon='archive', prefix='fa', color='green'))\n",
    "    mark.add_to(Map)\n",
    "\n",
    "COLORS = {\n",
    "    '1': 'blue',\n",
    "    '2': 'red',\n",
    "    '3': 'purple',\n",
    "    '4': 'green'\n",
    "}\n",
    "\n",
    "HOURS = [\n",
    "    [\n",
    "        hour2sec('08:00'),\n",
    "        hour2sec('08:05')\n",
    "    ],\n",
    "    [\n",
    "        hour2sec('09:00'),\n",
    "        hour2sec('09:05')\n",
    "    ],\n",
    "    [\n",
    "        hour2sec('10:00'),\n",
    "        hour2sec('10:05')\n",
    "    ],\n",
    "    [\n",
    "        hour2sec('11:00'),\n",
    "        hour2sec('11:05')\n",
    "    ],\n",
    "    [\n",
    "        hour2sec('12:00'),\n",
    "        hour2sec('12:05')\n",
    "    ]\n",
    "]\n",
    "# VEICOLI\n",
    "\n",
    "vehicles = []\n",
    "\n",
    "### VEICOLO 1\n",
    "vid = 1\n",
    "capacity = 1\n",
    "\n",
    "timeWindow = [       #orario lavoro del veicolo 1\n",
    "        hour2sec('08:00'),\n",
    "        hour2sec('13:00')\n",
    "    ]\n",
    "\n",
    "loc = locShift(point_start, 0.004)\n",
    "\n",
    "vehicle = {\n",
    "    'id': vid,\n",
    "    'capacity': [capacity],    # Limite di capacita' del Veicolo    \n",
    "    'profile': vehicleProfile,\n",
    "    'start': revcc(loc),       # posizione di partenza veicoli\n",
    "    'end': revcc(loc),\n",
    "    'time_window': timeWindow,\n",
    "#TODO\n",
    "#     'breaks': [              #se ci sono orari precisi di pause e sanitizzazione del veicolo\n",
    "#         {\n",
    "#           \"id\": 1,\n",
    "#           #\"description\": \"pausa sanitizzazione\", #descrizione pausa\n",
    "#           \"service\": 300,   #durata pausa 5 minuti\n",
    "#           \"time_windows\": [ #an array of time_window objects describing valid slots for break start\n",
    "#             [\n",
    "#               hour2sec('13:05'),\n",
    "#               hour2sec('13:55')\n",
    "#             ],\n",
    "#           ]\n",
    "#         }\n",
    "#       ]\n",
    "}\n",
    "vehicles.append(vehicle)\n",
    "\n",
    "### VEICOLO 2\n",
    "vid = 2\n",
    "capacity = 1\n",
    "\n",
    "timeWindow = [                  # orario lavoro del veicolo 2\n",
    "        hour2sec('14:00'),\n",
    "        hour2sec('19:00')\n",
    "    ]\n",
    "\n",
    "loc = locShift(point_start, 0.003)\n",
    "\n",
    "vehicle = {\n",
    "    'id': vid,\n",
    "    'capacity': [capacity],     # Limite di capacita' del Veicolo    \n",
    "    'profile': vehicleProfile,\n",
    "    'start': revcc(loc),        # posizione di partenza veicoli\n",
    "    'end': revcc(loc),\n",
    "    #'time_window': timeWindow\n",
    "}\n",
    "vehicles.append(vehicle)\n",
    "\n",
    "#DEFINITION OF JOBS\n",
    "\n",
    "ccA = [ revcc(p['geometry']['coordinates']) for p in pointsA ]\n",
    "ccB = [ revcc(p['geometry']['coordinates']) for p in pointsB ]\n",
    "job_locs = ccA + ccB\n",
    "\n",
    "jobs = []\n",
    "for jid, cc in enumerate(job_locs):\n",
    "    \n",
    "    #quantita da consegnare\n",
    "    delivery = 1 #random.randrange(1, 3)\n",
    "    \n",
    "    #tempo di della singola consegna/ritiro(in secondi)\n",
    "    service = random.randrange(60, 300) #da 2 a 5 minuti\n",
    "    \n",
    "    #orario casuali\n",
    "    timeWindow = random.choice(HOURS)\n",
    "    \n",
    "    # shifting casuale del tempo per ogni job\n",
    "    #s = random.randrange(-3000,3000)\n",
    "    #timeWindow = [timeWindow[0]+s, timeWindow[1]+s]\n",
    "    job = {\n",
    "        'id': jid,\n",
    "        'location': cc,\n",
    "        'delivery': [delivery], # Quantita' da consegnare\n",
    "        #'service': service,      # tempo di consegna o aggiunta del tempo DI PULIZIA mezzo\n",
    "        'time_windows': [ timeWindow ]\n",
    "    }\n",
    "    jobs.append(job)\n",
    "\n",
    "request = {\n",
    "    'vehicles': vehicles,\n",
    "    'jobs': jobs\n",
    "}\n",
    "\n",
    "request = example1\n",
    "\n",
    "# RENDERIZZA PROBLEMA RICHIESTO IN MAP\n",
    "for vehicle in request['vehicles']:\n",
    "    vehicle2Map(vehicle)\n",
    "\n",
    "for job in request['jobs']:\n",
    "    job2Map(job)\n",
    "\n",
    "Map"
   ]
  },
  {
   "cell_type": "code",
   "execution_count": 4,
   "metadata": {
    "scrolled": false
   },
   "outputs": [
    {
     "data": {
      "text/plain": [
       "{'vehicles': [{'id': 1,\n",
       "   'start': [11.10274, 46.21997],\n",
       "   'end': [11.10274, 46.21997],\n",
       "   'capacity': [4],\n",
       "   'skills': [1, 14],\n",
       "   'time_window': [1600416000, 1600430400],\n",
       "   'profile': ('driving-car',)},\n",
       "  {'id': 2,\n",
       "   'start': [11.10374, 46.21897],\n",
       "   'end': [11.10374, 46.21897],\n",
       "   'capacity': [4],\n",
       "   'skills': [2, 14],\n",
       "   'time_window': [1600416000, 1600430400],\n",
       "   'breaks': [{'id': 2,\n",
       "     'service': 300,\n",
       "     'time_windows': [[1600423200, 1600425000]]}],\n",
       "   'profile': ('driving-car',)}],\n",
       " 'jobs': [{'id': 1,\n",
       "   'service': 300,\n",
       "   'delivery': [1],\n",
       "   'location': [46.21858452155989, 11.114227983093262],\n",
       "   'skills': [1],\n",
       "   'time_windows': [[1600419600, 1600423200]]},\n",
       "  {'id': 2,\n",
       "   'service': 300,\n",
       "   'pickup': [1],\n",
       "   'location': [46.214911991592125, 11.118206977844238],\n",
       "   'skills': [1]}],\n",
       " 'shipments': [{'amount': [1],\n",
       "   'skills': [2],\n",
       "   'pickup': {'id': 4, 'location': [46.21419929496722, 11.123356819152832]},\n",
       "   'delivery': {'id': 3,\n",
       "    'location': [46.211972058400264, 11.127262115478516]}}]}"
      ]
     },
     "execution_count": 4,
     "metadata": {},
     "output_type": "execute_result"
    }
   ],
   "source": [
    "request"
   ]
  },
  {
   "cell_type": "code",
   "execution_count": 5,
   "metadata": {},
   "outputs": [
    {
     "data": {
      "text/plain": [
       "{'code': 2, 'error': 'Invalid profile value.'}"
      ]
     },
     "execution_count": 5,
     "metadata": {},
     "output_type": "execute_result"
    }
   ],
   "source": [
    "request['geometry'] = True\n",
    "\n",
    "resp = requests.post(vroom_url, json = request)\n",
    "\n",
    "solution = resp.json()\n",
    "\n",
    "#solution['summary']\n",
    "solution"
   ]
  },
  {
   "cell_type": "code",
   "execution_count": 66,
   "metadata": {
    "scrolled": false
   },
   "outputs": [
    {
     "ename": "KeyError",
     "evalue": "'routes'",
     "output_type": "error",
     "traceback": [
      "\u001b[0;31m---------------------------------------------------------------------------\u001b[0m",
      "\u001b[0;31mKeyError\u001b[0m                                  Traceback (most recent call last)",
      "\u001b[0;32m<ipython-input-66-c1f9fd66e7a2>\u001b[0m in \u001b[0;36m<module>\u001b[0;34m\u001b[0m\n\u001b[0;32m----> 1\u001b[0;31m \u001b[0;32mif\u001b[0m \u001b[0mlen\u001b[0m\u001b[0;34m(\u001b[0m\u001b[0msolution\u001b[0m\u001b[0;34m[\u001b[0m\u001b[0;34m'routes'\u001b[0m\u001b[0;34m]\u001b[0m\u001b[0;34m)\u001b[0m \u001b[0;34m>\u001b[0m \u001b[0;36m0\u001b[0m\u001b[0;34m:\u001b[0m\u001b[0;34m\u001b[0m\u001b[0;34m\u001b[0m\u001b[0m\n\u001b[0m\u001b[1;32m      2\u001b[0m     \u001b[0;32mfor\u001b[0m \u001b[0mroute\u001b[0m \u001b[0;32min\u001b[0m \u001b[0msolution\u001b[0m\u001b[0;34m[\u001b[0m\u001b[0;34m'routes'\u001b[0m\u001b[0;34m]\u001b[0m\u001b[0;34m:\u001b[0m\u001b[0;34m\u001b[0m\u001b[0;34m\u001b[0m\u001b[0m\n\u001b[1;32m      3\u001b[0m \u001b[0;34m\u001b[0m\u001b[0m\n\u001b[1;32m      4\u001b[0m         \u001b[0mrtext\u001b[0m \u001b[0;34m=\u001b[0m \u001b[0;34m'distance: '\u001b[0m\u001b[0;34m+\u001b[0m\u001b[0mtoKm\u001b[0m\u001b[0;34m(\u001b[0m\u001b[0mroute\u001b[0m\u001b[0;34m[\u001b[0m\u001b[0;34m'distance'\u001b[0m\u001b[0;34m]\u001b[0m\u001b[0;34m)\u001b[0m\u001b[0;34m+\u001b[0m\u001b[0;34m' delivered quantity: '\u001b[0m\u001b[0;34m+\u001b[0m\u001b[0mstr\u001b[0m\u001b[0;34m(\u001b[0m\u001b[0mroute\u001b[0m\u001b[0;34m[\u001b[0m\u001b[0;34m'delivery'\u001b[0m\u001b[0;34m]\u001b[0m\u001b[0;34m[\u001b[0m\u001b[0;36m0\u001b[0m\u001b[0;34m]\u001b[0m\u001b[0;34m)\u001b[0m\u001b[0;34m+\u001b[0m\u001b[0;34m', time: '\u001b[0m\u001b[0;34m+\u001b[0m\u001b[0mtoMin\u001b[0m\u001b[0;34m(\u001b[0m\u001b[0mroute\u001b[0m\u001b[0;34m[\u001b[0m\u001b[0;34m'duration'\u001b[0m\u001b[0;34m]\u001b[0m\u001b[0;34m+\u001b[0m\u001b[0mroute\u001b[0m\u001b[0;34m[\u001b[0m\u001b[0;34m'service'\u001b[0m\u001b[0;34m]\u001b[0m\u001b[0;34m)\u001b[0m\u001b[0;34m\u001b[0m\u001b[0;34m\u001b[0m\u001b[0m\n\u001b[1;32m      5\u001b[0m         \u001b[0mrcolor\u001b[0m \u001b[0;34m=\u001b[0m \u001b[0mCOLORS\u001b[0m\u001b[0;34m[\u001b[0m\u001b[0mstr\u001b[0m\u001b[0;34m(\u001b[0m\u001b[0mroute\u001b[0m\u001b[0;34m[\u001b[0m\u001b[0;34m'vehicle'\u001b[0m\u001b[0;34m]\u001b[0m\u001b[0;34m)\u001b[0m\u001b[0;34m]\u001b[0m\u001b[0;34m\u001b[0m\u001b[0;34m\u001b[0m\u001b[0m\n",
      "\u001b[0;31mKeyError\u001b[0m: 'routes'"
     ]
    }
   ],
   "source": [
    "if len(solution['routes']) > 0:\n",
    "    for route in solution['routes']:\n",
    "\n",
    "        rtext = 'distance: '+toKm(route['distance'])+' delivered quantity: '+str(route['delivery'][0])+', time: '+toMin(route['duration']+route['service'])\n",
    "        rcolor = COLORS[str(route['vehicle'])]\n",
    "        print('Vehicle'+str(route['vehicle']), rcolor, rtext)\n",
    "\n",
    "        folium.PolyLine(\n",
    "            locations = [revcc(coords) for coords in ors.convert.decode_polyline(route['geometry'])['coordinates']],\n",
    "            color = rcolor,\n",
    "            opacity = 0.8,\n",
    "            weight = 5\n",
    "        ).add_to(Map)\n",
    "\n",
    "    print(\"\\nTotal distance: \"+toKm(solution['summary']['distance']), 'Not Delivered: '+str(len(solution['unassigned'])))\n",
    "\n",
    "Map"
   ]
  },
  {
   "cell_type": "code",
   "execution_count": 67,
   "metadata": {
    "scrolled": false
   },
   "outputs": [
    {
     "data": {
      "text/plain": [
       "{'code': 2, 'error': 'Invalid profile value.'}"
      ]
     },
     "execution_count": 67,
     "metadata": {},
     "output_type": "execute_result"
    }
   ],
   "source": [
    "solution"
   ]
  },
  {
   "cell_type": "code",
   "execution_count": null,
   "metadata": {},
   "outputs": [],
   "source": []
  }
 ],
 "metadata": {
  "kernelspec": {
   "display_name": "Python 3",
   "language": "python",
   "name": "python3"
  },
  "language_info": {
   "codemirror_mode": {
    "name": "ipython",
    "version": 3
   },
   "file_extension": ".py",
   "mimetype": "text/x-python",
   "name": "python",
   "nbconvert_exporter": "python",
   "pygments_lexer": "ipython3",
   "version": "3.8.6"
  }
 },
 "nbformat": 4,
 "nbformat_minor": 2
}
